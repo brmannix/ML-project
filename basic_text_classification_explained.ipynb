{
 "cells": [
  {
   "cell_type": "markdown",
   "metadata": {
    "colab_type": "text",
    "id": "ItXfxkxvosLH"
   },
   "source": [
    "# Text classification with movie reviews"
   ]
  },
  {
   "cell_type": "markdown",
   "metadata": {
    "colab_type": "text",
    "id": "uQmry6WUP1K3"
   },
   "source": [
    "**The model itself is unchanged from the original tensorflow example. Jump to \"Explaination\" for what I added.**"
   ]
  },
  {
   "cell_type": "markdown",
   "metadata": {
    "colab_type": "text",
    "id": "Eg62Pmz3o83v"
   },
   "source": [
    "\n",
    "This notebook classifies movie reviews as *positive* or *negative* using the text of the review. This is an example of *binary*—or two-class—classification, an important and widely applicable kind of machine learning problem.\n",
    "\n",
    "We'll use the [IMDB dataset](https://www.tensorflow.org/api_docs/python/tf/keras/datasets/imdb) that contains the text of 50,000 movie reviews from the [Internet Movie Database](https://www.imdb.com/). These are split into 25,000 reviews for training and 25,000 reviews for testing. The training and testing sets are *balanced*, meaning they contain an equal number of positive and negative reviews.\n",
    "\n",
    "This notebook uses [tf.keras](https://www.tensorflow.org/guide/keras), a high-level API to build and train models in TensorFlow. For a more advanced text classification tutorial using `tf.keras`, see the [MLCC Text Classification Guide](https://developers.google.com/machine-learning/guides/text-classification/)."
   ]
  },
  {
   "cell_type": "code",
   "execution_count": 8,
   "metadata": {
    "colab": {},
    "colab_type": "code",
    "id": "2ew7HTbPpCJH"
   },
   "outputs": [
    {
     "name": "stdout",
     "output_type": "stream",
     "text": [
      "2.2.4\n"
     ]
    }
   ],
   "source": [
    "from __future__ import absolute_import, division, print_function, unicode_literals\n",
    "\n",
    "import tensorflow as tf\n",
    "import keras\n",
    "\n",
    "import numpy as np\n",
    "\n",
    "print(keras.__version__)\n",
    "\n",
    "from keras import backend as K"
   ]
  },
  {
   "cell_type": "markdown",
   "metadata": {
    "colab_type": "text",
    "id": "iAsKG535pHep"
   },
   "source": [
    "## Download the IMDB dataset"
   ]
  },
  {
   "cell_type": "code",
   "execution_count": 9,
   "metadata": {
    "colab": {},
    "colab_type": "code",
    "id": "zXXx5Oc3pOmN"
   },
   "outputs": [],
   "source": [
    "imdb = tf.keras.datasets.imdb\n",
    "\n",
    "\n",
    "(train_data, train_labels), (test_data, test_labels) = imdb.load_data(num_words=10000)"
   ]
  },
  {
   "cell_type": "markdown",
   "metadata": {
    "colab_type": "text",
    "id": "odr-KlzO-lkL"
   },
   "source": [
    "The argument `num_words=10000` keeps the top 10,000 most frequently occurring words in the training data. The rare words are discarded to keep the size of the data manageable."
   ]
  },
  {
   "cell_type": "code",
   "execution_count": 10,
   "metadata": {
    "colab": {},
    "colab_type": "code",
    "id": "y8qCnve_-lkO"
   },
   "outputs": [
    {
     "name": "stdout",
     "output_type": "stream",
     "text": [
      "Training entries: 25000, labels: 25000\n"
     ]
    }
   ],
   "source": [
    "print(\"Training entries: {}, labels: {}\".format(len(train_data), len(train_labels)))"
   ]
  },
  {
   "cell_type": "markdown",
   "metadata": {
    "colab_type": "text",
    "id": "RnKvHWW4-lkW"
   },
   "source": [
    "The text of reviews have been converted to integers, where each integer represents a specific word in a dictionary. Here's what the first review looks like:"
   ]
  },
  {
   "cell_type": "code",
   "execution_count": 11,
   "metadata": {
    "colab": {},
    "colab_type": "code",
    "id": "QtTS4kpEpjbi"
   },
   "outputs": [
    {
     "name": "stdout",
     "output_type": "stream",
     "text": [
      "[1, 14, 22, 16, 43, 530, 973, 1622, 1385, 65, 458, 4468, 66, 3941, 4, 173, 36, 256, 5, 25, 100, 43, 838, 112, 50, 670, 2, 9, 35, 480, 284, 5, 150, 4, 172, 112, 167, 2, 336, 385, 39, 4, 172, 4536, 1111, 17, 546, 38, 13, 447, 4, 192, 50, 16, 6, 147, 2025, 19, 14, 22, 4, 1920, 4613, 469, 4, 22, 71, 87, 12, 16, 43, 530, 38, 76, 15, 13, 1247, 4, 22, 17, 515, 17, 12, 16, 626, 18, 2, 5, 62, 386, 12, 8, 316, 8, 106, 5, 4, 2223, 5244, 16, 480, 66, 3785, 33, 4, 130, 12, 16, 38, 619, 5, 25, 124, 51, 36, 135, 48, 25, 1415, 33, 6, 22, 12, 215, 28, 77, 52, 5, 14, 407, 16, 82, 2, 8, 4, 107, 117, 5952, 15, 256, 4, 2, 7, 3766, 5, 723, 36, 71, 43, 530, 476, 26, 400, 317, 46, 7, 4, 2, 1029, 13, 104, 88, 4, 381, 15, 297, 98, 32, 2071, 56, 26, 141, 6, 194, 7486, 18, 4, 226, 22, 21, 134, 476, 26, 480, 5, 144, 30, 5535, 18, 51, 36, 28, 224, 92, 25, 104, 4, 226, 65, 16, 38, 1334, 88, 12, 16, 283, 5, 16, 4472, 113, 103, 32, 15, 16, 5345, 19, 178, 32]\n"
     ]
    }
   ],
   "source": [
    "print(train_data[0])"
   ]
  },
  {
   "cell_type": "markdown",
   "metadata": {
    "colab_type": "text",
    "id": "hIE4l_72x7DP"
   },
   "source": [
    "Movie reviews may be different lengths. The below code shows the number of words in the first and second reviews. Since inputs to a neural network must be the same length, we'll need to resolve this later."
   ]
  },
  {
   "cell_type": "code",
   "execution_count": 12,
   "metadata": {
    "colab": {},
    "colab_type": "code",
    "id": "X-6Ii9Pfx6Nr"
   },
   "outputs": [
    {
     "data": {
      "text/plain": [
       "(218, 189)"
      ]
     },
     "execution_count": 12,
     "metadata": {},
     "output_type": "execute_result"
    }
   ],
   "source": [
    "len(train_data[0]), len(train_data[1])"
   ]
  },
  {
   "cell_type": "markdown",
   "metadata": {
    "colab_type": "text",
    "id": "4wJg2FiYpuoX"
   },
   "source": [
    "### Convert the integers back to words\n"
   ]
  },
  {
   "cell_type": "code",
   "execution_count": 13,
   "metadata": {
    "colab": {},
    "colab_type": "code",
    "id": "tr5s_1alpzop"
   },
   "outputs": [],
   "source": [
    "# A dictionary mapping words to an integer index\n",
    "word_index = imdb.get_word_index()\n",
    "\n",
    "# The first indices are reserved\n",
    "word_index = {k:(v+3) for k,v in word_index.items()}\n",
    "word_index[\"<PAD>\"] = 0\n",
    "word_index[\"<START>\"] = 1\n",
    "word_index[\"<UNK>\"] = 2  # unknown\n",
    "word_index[\"<UNUSED>\"] = 3\n",
    "\n",
    "reverse_word_index = dict([(value, key) for (key, value) in word_index.items()])\n",
    "\n",
    "def decode_review(text):\n",
    "    return ' '.join([reverse_word_index.get(i, '?') for i in text])"
   ]
  },
  {
   "cell_type": "markdown",
   "metadata": {
    "colab_type": "text",
    "id": "U3CNRvEZVppl"
   },
   "source": [
    "Now we can use the `decode_review` function to display the text for the first review:"
   ]
  },
  {
   "cell_type": "code",
   "execution_count": 14,
   "metadata": {
    "colab": {},
    "colab_type": "code",
    "id": "s_OqxmH6-lkn"
   },
   "outputs": [
    {
     "data": {
      "text/plain": [
       "\"<START> this film was just brilliant casting location scenery story direction everyone's really suited the part they played and you could just imagine being there robert <UNK> is an amazing actor and now the same being director <UNK> father came from the same scottish island as myself so i loved the fact there was a real connection with this film the witty remarks throughout the film were great it was just brilliant so much that i bought the film as soon as it was released for <UNK> and would recommend it to everyone to watch and the fly fishing was amazing really cried at the end it was so sad and you know what they say if you cry at a film it must have been good and this definitely was also <UNK> to the two little boy's that played the <UNK> of norman and paul they were just brilliant children are often left out of the <UNK> list i think because the stars that play them all grown up are such a big profile for the whole film but these children are amazing and should be praised for what they have done don't you think the whole story was so lovely because it was true and was someone's life after all that was shared with us all\""
      ]
     },
     "execution_count": 14,
     "metadata": {},
     "output_type": "execute_result"
    }
   ],
   "source": [
    "decode_review(train_data[0])"
   ]
  },
  {
   "cell_type": "code",
   "execution_count": 15,
   "metadata": {
    "colab": {},
    "colab_type": "code",
    "id": "IlVYvIz8mPAZ"
   },
   "outputs": [
    {
     "data": {
      "text/plain": [
       "1"
      ]
     },
     "execution_count": 15,
     "metadata": {},
     "output_type": "execute_result"
    }
   ],
   "source": [
    "train_labels[0]"
   ]
  },
  {
   "cell_type": "markdown",
   "metadata": {
    "colab_type": "text",
    "id": "lFP_XKVRp4_S"
   },
   "source": [
    "## Prepare the data\n",
    "\n",
    "The reviews—the arrays of integers—must be converted to tensors before fed into the neural network. This conversion can be done a couple of ways:\n",
    "\n",
    "* Convert the arrays into vectors of 0s and 1s indicating word occurrence, similar to a one-hot encoding. For example, the sequence  [3, 5] would become a 10,000-dimensional vector that is all zeros except for indices 3 and 5, which are ones. Then, make this the first layer in our network—a Dense layer—that can handle floating point vector data. This approach is memory intensive, though, requiring a `num_words * num_reviews` size matrix.\n",
    "\n",
    "* Alternatively, we can pad the arrays so they all have the same length, then create an integer tensor of shape `max_length * num_reviews`. We can use an embedding layer capable of handling this shape as the first layer in our network.\n",
    "\n",
    "In this tutorial, we will use the second approach.\n",
    "\n",
    "Since the movie reviews must be the same length, we will use the [pad_sequences](https://keras.io/preprocessing/sequence/#pad_sequences) function to standardize the lengths:"
   ]
  },
  {
   "cell_type": "code",
   "execution_count": 16,
   "metadata": {
    "colab": {},
    "colab_type": "code",
    "id": "2jQv-omsHurp"
   },
   "outputs": [],
   "source": [
    "train_data = keras.preprocessing.sequence.pad_sequences(train_data,\n",
    "                                                        value=word_index[\"<PAD>\"],\n",
    "                                                        padding='post',\n",
    "                                                        maxlen=256)\n",
    "\n",
    "test_data = keras.preprocessing.sequence.pad_sequences(test_data,\n",
    "                                                       value=word_index[\"<PAD>\"],\n",
    "                                                       padding='post',\n",
    "                                                       maxlen=256)"
   ]
  },
  {
   "cell_type": "markdown",
   "metadata": {
    "colab_type": "text",
    "id": "LLC02j2g-llC"
   },
   "source": [
    "## Build the model\n"
   ]
  },
  {
   "cell_type": "code",
   "execution_count": 17,
   "metadata": {
    "colab": {},
    "colab_type": "code",
    "id": "xpKOoWgu-llD"
   },
   "outputs": [
    {
     "name": "stderr",
     "output_type": "stream",
     "text": [
      "WARNING: Logging before flag parsing goes to stderr.\n",
      "W0729 09:33:07.641165  9944 deprecation_wrapper.py:119] From C:\\Users\\benma\\Anaconda3\\lib\\site-packages\\keras\\backend\\tensorflow_backend.py:74: The name tf.get_default_graph is deprecated. Please use tf.compat.v1.get_default_graph instead.\n",
      "\n",
      "W0729 09:33:07.681864  9944 deprecation_wrapper.py:119] From C:\\Users\\benma\\Anaconda3\\lib\\site-packages\\keras\\backend\\tensorflow_backend.py:517: The name tf.placeholder is deprecated. Please use tf.compat.v1.placeholder instead.\n",
      "\n",
      "W0729 09:33:07.686574  9944 deprecation_wrapper.py:119] From C:\\Users\\benma\\Anaconda3\\lib\\site-packages\\keras\\backend\\tensorflow_backend.py:4138: The name tf.random_uniform is deprecated. Please use tf.random.uniform instead.\n",
      "\n"
     ]
    },
    {
     "name": "stdout",
     "output_type": "stream",
     "text": [
      "_________________________________________________________________\n",
      "Layer (type)                 Output Shape              Param #   \n",
      "=================================================================\n",
      "embedding_1 (Embedding)      (None, None, 16)          160000    \n",
      "_________________________________________________________________\n",
      "global_average_pooling1d_1 ( (None, 16)                0         \n",
      "_________________________________________________________________\n",
      "dense_1 (Dense)              (None, 16)                272       \n",
      "_________________________________________________________________\n",
      "dense_2 (Dense)              (None, 1)                 17        \n",
      "=================================================================\n",
      "Total params: 160,289\n",
      "Trainable params: 160,289\n",
      "Non-trainable params: 0\n",
      "_________________________________________________________________\n"
     ]
    }
   ],
   "source": [
    "# input shape is the vocabulary count used for the movie reviews (10,000 words)\n",
    "vocab_size = 10000\n",
    "\n",
    "model = keras.Sequential()\n",
    "model.add(keras.layers.Embedding(vocab_size, 16))\n",
    "model.add(keras.layers.GlobalAveragePooling1D())\n",
    "model.add(keras.layers.Dense(16, activation=tf.nn.relu))\n",
    "model.add(keras.layers.Dense(1))\n",
    "\n",
    "model.summary()"
   ]
  },
  {
   "cell_type": "markdown",
   "metadata": {
    "colab_type": "text",
    "id": "L4EqVWg4-llM"
   },
   "source": [
    "### Loss function and optimizer\n"
   ]
  },
  {
   "cell_type": "code",
   "execution_count": 18,
   "metadata": {
    "colab": {},
    "colab_type": "code",
    "id": "Mr0GP-cQ-llN"
   },
   "outputs": [
    {
     "name": "stderr",
     "output_type": "stream",
     "text": [
      "W0729 09:33:12.177397  9944 deprecation_wrapper.py:119] From C:\\Users\\benma\\Anaconda3\\lib\\site-packages\\keras\\optimizers.py:790: The name tf.train.Optimizer is deprecated. Please use tf.compat.v1.train.Optimizer instead.\n",
      "\n",
      "W0729 09:33:12.252639  9944 deprecation_wrapper.py:119] From C:\\Users\\benma\\Anaconda3\\lib\\site-packages\\keras\\backend\\tensorflow_backend.py:3376: The name tf.log is deprecated. Please use tf.math.log instead.\n",
      "\n",
      "W0729 09:33:12.271415  9944 deprecation.py:323] From C:\\Users\\benma\\Anaconda3\\lib\\site-packages\\tensorflow\\python\\ops\\nn_impl.py:180: add_dispatch_support.<locals>.wrapper (from tensorflow.python.ops.array_ops) is deprecated and will be removed in a future version.\n",
      "Instructions for updating:\n",
      "Use tf.where in 2.0, which has the same broadcast rule as np.where\n"
     ]
    }
   ],
   "source": [
    "model.compile(optimizer='adam',\n",
    "              loss='binary_crossentropy',\n",
    "              metrics=['acc'])"
   ]
  },
  {
   "cell_type": "markdown",
   "metadata": {
    "colab_type": "text",
    "id": "hCWYwkug-llQ"
   },
   "source": [
    "## Create a validation set\n",
    "\n"
   ]
  },
  {
   "cell_type": "code",
   "execution_count": 19,
   "metadata": {
    "colab": {},
    "colab_type": "code",
    "id": "-NpcXY9--llS"
   },
   "outputs": [],
   "source": [
    "x_val = train_data[:10000]\n",
    "partial_x_train = train_data[10000:]\n",
    "\n",
    "y_val = train_labels[:10000]\n",
    "partial_y_train = train_labels[10000:]"
   ]
  },
  {
   "cell_type": "markdown",
   "metadata": {
    "colab_type": "text",
    "id": "35jv_fzP-llU"
   },
   "source": [
    "## Train the model\n"
   ]
  },
  {
   "cell_type": "code",
   "execution_count": 20,
   "metadata": {
    "colab": {},
    "colab_type": "code",
    "id": "tXSGrjWZ-llW"
   },
   "outputs": [
    {
     "name": "stderr",
     "output_type": "stream",
     "text": [
      "W0729 09:33:14.358838  9944 deprecation_wrapper.py:119] From C:\\Users\\benma\\Anaconda3\\lib\\site-packages\\keras\\backend\\tensorflow_backend.py:986: The name tf.assign_add is deprecated. Please use tf.compat.v1.assign_add instead.\n",
      "\n"
     ]
    },
    {
     "name": "stdout",
     "output_type": "stream",
     "text": [
      "Train on 15000 samples, validate on 10000 samples\n",
      "Epoch 1/40\n",
      "15000/15000 [==============================] - 2s 114us/step - loss: 2.0775 - acc: 0.5035 - val_loss: 1.4128 - val_acc: 0.4947\n",
      "Epoch 2/40\n",
      "15000/15000 [==============================] - 1s 69us/step - loss: 1.3118 - acc: 0.5035 - val_loss: 1.2589 - val_acc: 0.4947\n",
      "Epoch 3/40\n",
      "15000/15000 [==============================] - 1s 70us/step - loss: 1.1791 - acc: 0.5035 - val_loss: 1.1344 - val_acc: 0.4947\n",
      "Epoch 4/40\n",
      "15000/15000 [==============================] - 1s 71us/step - loss: 1.0621 - acc: 0.5035 - val_loss: 1.0206 - val_acc: 0.4947\n",
      "Epoch 5/40\n",
      "15000/15000 [==============================] - 1s 72us/step - loss: 0.9595 - acc: 0.5035 - val_loss: 0.9253 - val_acc: 0.4947\n",
      "Epoch 6/40\n",
      "15000/15000 [==============================] - 1s 73us/step - loss: 0.8757 - acc: 0.5035 - val_loss: 0.8489 - val_acc: 0.4947\n",
      "Epoch 7/40\n",
      "15000/15000 [==============================] - 1s 72us/step - loss: 0.8094 - acc: 0.5035 - val_loss: 0.7907 - val_acc: 0.4947\n",
      "Epoch 8/40\n",
      "15000/15000 [==============================] - 1s 71us/step - loss: 0.7594 - acc: 0.5035 - val_loss: 0.7462 - val_acc: 0.4947\n",
      "Epoch 9/40\n",
      "15000/15000 [==============================] - 1s 70us/step - loss: 0.7225 - acc: 0.5035 - val_loss: 0.7139 - val_acc: 0.4947\n",
      "Epoch 10/40\n",
      "15000/15000 [==============================] - 1s 72us/step - loss: 0.6961 - acc: 0.5037 - val_loss: 0.6916 - val_acc: 0.4949\n",
      "Epoch 11/40\n",
      "15000/15000 [==============================] - 1s 70us/step - loss: 0.6776 - acc: 0.5119 - val_loss: 0.6756 - val_acc: 0.5164\n",
      "Epoch 12/40\n",
      "15000/15000 [==============================] - 1s 71us/step - loss: 0.6637 - acc: 0.5720 - val_loss: 0.6635 - val_acc: 0.5943\n",
      "Epoch 13/40\n",
      "15000/15000 [==============================] - 1s 71us/step - loss: 0.6527 - acc: 0.6623 - val_loss: 0.6539 - val_acc: 0.6750\n",
      "Epoch 14/40\n",
      "15000/15000 [==============================] - 1s 71us/step - loss: 0.6428 - acc: 0.7380 - val_loss: 0.6447 - val_acc: 0.7427\n",
      "Epoch 15/40\n",
      "15000/15000 [==============================] - 1s 71us/step - loss: 0.6329 - acc: 0.7982 - val_loss: 0.6356 - val_acc: 0.7845\n",
      "Epoch 16/40\n",
      "15000/15000 [==============================] - 1s 71us/step - loss: 0.6228 - acc: 0.8278 - val_loss: 0.6263 - val_acc: 0.8094\n",
      "Epoch 17/40\n",
      "15000/15000 [==============================] - 1s 71us/step - loss: 0.6120 - acc: 0.8413 - val_loss: 0.6163 - val_acc: 0.8197\n",
      "Epoch 18/40\n",
      "15000/15000 [==============================] - 1s 72us/step - loss: 0.6003 - acc: 0.8469 - val_loss: 0.6054 - val_acc: 0.8239\n",
      "Epoch 19/40\n",
      "15000/15000 [==============================] - 1s 72us/step - loss: 0.5874 - acc: 0.8503 - val_loss: 0.5936 - val_acc: 0.8288\n",
      "Epoch 20/40\n",
      "15000/15000 [==============================] - 1s 73us/step - loss: 0.5732 - acc: 0.8563 - val_loss: 0.5804 - val_acc: 0.8316\n",
      "Epoch 21/40\n",
      "15000/15000 [==============================] - 1s 70us/step - loss: 0.5573 - acc: 0.8577 - val_loss: 0.5658 - val_acc: 0.8317\n",
      "Epoch 22/40\n",
      "15000/15000 [==============================] - 1s 71us/step - loss: 0.5395 - acc: 0.8586 - val_loss: 0.5495 - val_acc: 0.8360\n",
      "Epoch 23/40\n",
      "15000/15000 [==============================] - 1s 72us/step - loss: 0.5198 - acc: 0.8650 - val_loss: 0.5315 - val_acc: 0.8398\n",
      "Epoch 24/40\n",
      "15000/15000 [==============================] - 1s 72us/step - loss: 0.4978 - acc: 0.8694 - val_loss: 0.5117 - val_acc: 0.8417\n",
      "Epoch 25/40\n",
      "15000/15000 [==============================] - 1s 72us/step - loss: 0.4739 - acc: 0.8727 - val_loss: 0.4907 - val_acc: 0.8446\n",
      "Epoch 26/40\n",
      "15000/15000 [==============================] - 1s 71us/step - loss: 0.4486 - acc: 0.8757 - val_loss: 0.4688 - val_acc: 0.8469\n",
      "Epoch 27/40\n",
      "15000/15000 [==============================] - 1s 71us/step - loss: 0.4229 - acc: 0.8791 - val_loss: 0.4472 - val_acc: 0.8481\n",
      "Epoch 28/40\n",
      "15000/15000 [==============================] - 1s 71us/step - loss: 0.3977 - acc: 0.8848 - val_loss: 0.4280 - val_acc: 0.8507\n",
      "Epoch 29/40\n",
      "15000/15000 [==============================] - 1s 70us/step - loss: 0.3738 - acc: 0.8873 - val_loss: 0.4117 - val_acc: 0.8548\n",
      "Epoch 30/40\n",
      "15000/15000 [==============================] - 1s 71us/step - loss: 0.3536 - acc: 0.8938 - val_loss: 0.3978 - val_acc: 0.8551\n",
      "Epoch 31/40\n",
      "15000/15000 [==============================] - 1s 71us/step - loss: 0.3322 - acc: 0.8935 - val_loss: 0.3855 - val_acc: 0.8556\n",
      "Epoch 32/40\n",
      "15000/15000 [==============================] - 1s 71us/step - loss: 0.3116 - acc: 0.8970 - val_loss: 0.3765 - val_acc: 0.8585\n",
      "Epoch 33/40\n",
      "15000/15000 [==============================] - 1s 71us/step - loss: 0.2928 - acc: 0.8983 - val_loss: 0.3687 - val_acc: 0.8601\n",
      "Epoch 34/40\n",
      "15000/15000 [==============================] - 1s 71us/step - loss: 0.2761 - acc: 0.9018 - val_loss: 0.3718 - val_acc: 0.8616\n",
      "Epoch 35/40\n",
      "15000/15000 [==============================] - 1s 70us/step - loss: 0.2613 - acc: 0.9029 - val_loss: 0.3678 - val_acc: 0.8630\n",
      "Epoch 36/40\n",
      "15000/15000 [==============================] - 1s 70us/step - loss: 0.2475 - acc: 0.9069 - val_loss: 0.3685 - val_acc: 0.8622\n",
      "Epoch 37/40\n",
      "15000/15000 [==============================] - 1s 72us/step - loss: 0.2357 - acc: 0.9051 - val_loss: 0.3675 - val_acc: 0.8622\n",
      "Epoch 38/40\n",
      "15000/15000 [==============================] - 1s 72us/step - loss: 0.2241 - acc: 0.9077 - val_loss: 0.3684 - val_acc: 0.8611\n",
      "Epoch 39/40\n",
      "15000/15000 [==============================] - 1s 71us/step - loss: 0.2135 - acc: 0.9049 - val_loss: 0.3741 - val_acc: 0.8612\n",
      "Epoch 40/40\n",
      "15000/15000 [==============================] - 1s 71us/step - loss: 0.2038 - acc: 0.9047 - val_loss: 0.3838 - val_acc: 0.8568\n"
     ]
    }
   ],
   "source": [
    "history = model.fit(partial_x_train,\n",
    "                    partial_y_train,\n",
    "                    epochs=40,\n",
    "                    batch_size=512,\n",
    "                    validation_data=(x_val, y_val),\n",
    "                    verbose=1)"
   ]
  },
  {
   "cell_type": "markdown",
   "metadata": {
    "colab_type": "text",
    "id": "9EEGuDVuzb5r"
   },
   "source": [
    "## Evaluate the model\n"
   ]
  },
  {
   "cell_type": "code",
   "execution_count": 21,
   "metadata": {
    "colab": {},
    "colab_type": "code",
    "id": "zOMKywn4zReN"
   },
   "outputs": [
    {
     "name": "stdout",
     "output_type": "stream",
     "text": [
      "25000/25000 [==============================] - 1s 35us/step\n",
      "[0.3951535677909851, 0.85388]\n"
     ]
    }
   ],
   "source": [
    "results = model.evaluate(test_data, test_labels)\n",
    "\n",
    "print(results)"
   ]
  },
  {
   "cell_type": "code",
   "execution_count": 22,
   "metadata": {
    "colab": {},
    "colab_type": "code",
    "id": "2SAxdLLImPA0"
   },
   "outputs": [
    {
     "name": "stdout",
     "output_type": "stream",
     "text": [
      "[1 0 0 1 0 0 1 0 1 0]\n",
      "\n",
      "[[ 1.3943272 ]\n",
      " [-0.04145429]\n",
      " [-0.02651346]\n",
      " [ 1.0698541 ]\n",
      " [-0.06395141]\n",
      " [ 0.56268144]\n",
      " [ 0.9050646 ]\n",
      " [-0.06665757]\n",
      " [ 1.3686651 ]\n",
      " [ 0.5546291 ]]\n"
     ]
    }
   ],
   "source": [
    "predictions = model.predict(train_data)\n",
    "print(train_labels[0:10])\n",
    "print()\n",
    "print(predictions[0:10])"
   ]
  },
  {
   "cell_type": "code",
   "execution_count": 23,
   "metadata": {
    "colab": {},
    "colab_type": "code",
    "id": "r8easI14mPA3"
   },
   "outputs": [
    {
     "data": {
      "text/plain": [
       "array([1.3943272], dtype=float32)"
      ]
     },
     "execution_count": 23,
     "metadata": {},
     "output_type": "execute_result"
    }
   ],
   "source": [
    "predictions[0]"
   ]
  },
  {
   "cell_type": "markdown",
   "metadata": {
    "colab_type": "text",
    "id": "5KggXVeL-llZ"
   },
   "source": [
    "## Create a graph of accuracy and loss over time\n",
    "\n"
   ]
  },
  {
   "cell_type": "code",
   "execution_count": 24,
   "metadata": {
    "colab": {},
    "colab_type": "code",
    "id": "VcvSXvhp-llb"
   },
   "outputs": [
    {
     "data": {
      "text/plain": [
       "dict_keys(['val_loss', 'val_acc', 'loss', 'acc'])"
      ]
     },
     "execution_count": 24,
     "metadata": {},
     "output_type": "execute_result"
    }
   ],
   "source": [
    "history_dict = history.history\n",
    "history_dict.keys()"
   ]
  },
  {
   "cell_type": "code",
   "execution_count": 25,
   "metadata": {
    "colab": {},
    "colab_type": "code",
    "id": "nGoYf2Js-lle"
   },
   "outputs": [
    {
     "data": {
      "text/plain": [
       "<Figure size 640x480 with 1 Axes>"
      ]
     },
     "metadata": {},
     "output_type": "display_data"
    }
   ],
   "source": [
    "import matplotlib.pyplot as plt\n",
    "\n",
    "acc = history_dict['acc']\n",
    "val_acc = history_dict['val_acc']\n",
    "loss = history_dict['loss']\n",
    "val_loss = history_dict['val_loss']\n",
    "\n",
    "epochs = range(1, len(acc) + 1)\n",
    "\n",
    "# \"bo\" is for \"blue dot\"\n",
    "plt.plot(epochs, loss, 'bo', label='Training loss')\n",
    "# b is for \"solid blue line\"\n",
    "plt.plot(epochs, val_loss, 'b', label='Validation loss')\n",
    "plt.title('Training and validation loss')\n",
    "plt.xlabel('Epochs')\n",
    "plt.ylabel('Loss')\n",
    "plt.legend()\n",
    "\n",
    "plt.show()"
   ]
  },
  {
   "cell_type": "code",
   "execution_count": 26,
   "metadata": {
    "colab": {},
    "colab_type": "code",
    "id": "6hXx-xOv-llh"
   },
   "outputs": [
    {
     "data": {
      "image/png": "[encoded data removed]",
      "text/plain": [
       "<Figure size 432x288 with 1 Axes>"
      ]
     },
     "metadata": {
      "needs_background": "light"
     },
     "output_type": "display_data"
    }
   ],
   "source": [
    "plt.clf()   # clear figure\n",
    "\n",
    "plt.plot(epochs, acc, 'bo', label='Training acc')\n",
    "plt.plot(epochs, val_acc, 'b', label='Validation acc')\n",
    "plt.title('Training and validation accuracy')\n",
    "plt.xlabel('Epochs')\n",
    "plt.ylabel('Accuracy')\n",
    "plt.legend()\n",
    "\n",
    "plt.show()"
   ]
  },
  {
   "cell_type": "markdown",
   "metadata": {
    "colab_type": "text",
    "id": "IXF0v7G4mPBD"
   },
   "source": [
    "# Explanation "
   ]
  },
  {
   "cell_type": "code",
   "execution_count": 27,
   "metadata": {
    "colab": {},
    "colab_type": "code",
    "id": "FKCAdaqhmPBE"
   },
   "outputs": [],
   "source": [
    "import innvestigate\n",
    "import innvestigate.utils as iutils"
   ]
  },
  {
   "cell_type": "markdown",
   "metadata": {
    "colab_type": "text",
    "id": "MUfIp8SAQoSY"
   },
   "source": [
    "So trying with the original model threw \"'NoneType' object has no attribute '_keras_shape'\". Suspecting there was some issue with the model itself, I tried the same data with a simpler model."
   ]
  },
  {
   "cell_type": "code",
   "execution_count": 28,
   "metadata": {
    "colab": {},
    "colab_type": "code",
    "id": "t_MCbq48mPBG"
   },
   "outputs": [],
   "source": [
    "#analyzer = innvestigate.create_analyzer('lrp.z', model)\n",
    "#analyzer.analyze(train_data) "
   ]
  },
  {
   "cell_type": "markdown",
   "metadata": {
    "colab_type": "text",
    "id": "ql-LJ6TNeZRt"
   },
   "source": [
    "**Test Model**"
   ]
  },
  {
   "cell_type": "markdown",
   "metadata": {
    "colab_type": "text",
    "id": "nGHtTev0RKkw"
   },
   "source": []
  },
  {
   "cell_type": "markdown",
   "metadata": {
    "colab_type": "text",
    "id": "ROt96nSYQ87V"
   },
   "source": [
    "I simply made a model of all dense layers because I know that works with iNNvestigate. The model is horribly innaccurate, but the important thing is I can show how the problem of text classification works. "
   ]
  },
  {
   "cell_type": "code",
   "execution_count": 29,
   "metadata": {
    "colab": {},
    "colab_type": "code",
    "id": "oONxL20zmPBN"
   },
   "outputs": [],
   "source": [
    "test_model = keras.Sequential()\n",
    "test_model.add(keras.layers.Dense(256))\n",
    "test_model.add(keras.layers.Dense(256))\n",
    "test_model.add(keras.layers.Dense(16, activation=tf.nn.relu))\n",
    "test_model.add(keras.layers.Dense(1))\n"
   ]
  },
  {
   "cell_type": "code",
   "execution_count": 30,
   "metadata": {
    "colab": {},
    "colab_type": "code",
    "id": "48MBkRooetnO"
   },
   "outputs": [],
   "source": [
    "test_model.compile(optimizer='adam',\n",
    "              loss='binary_crossentropy',\n",
    "              metrics=['acc'])"
   ]
  },
  {
   "cell_type": "code",
   "execution_count": 31,
   "metadata": {
    "colab": {},
    "colab_type": "code",
    "id": "QUbEZOT8fAp9"
   },
   "outputs": [
    {
     "name": "stdout",
     "output_type": "stream",
     "text": [
      "Train on 15000 samples, validate on 10000 samples\n",
      "Epoch 1/40\n",
      "15000/15000 [==============================] - 1s 60us/step - loss: 7.9941 - acc: 6.6667e-05 - val_loss: 8.1157 - val_acc: 0.0000e+00\n",
      "Epoch 2/40\n",
      "15000/15000 [==============================] - 0s 22us/step - loss: 7.9879 - acc: 0.0000e+00 - val_loss: 8.1424 - val_acc: 1.0000e-04\n",
      "Epoch 3/40\n",
      "15000/15000 [==============================] - 0s 21us/step - loss: 7.9928 - acc: 6.6667e-05 - val_loss: 8.1332 - val_acc: 0.0000e+00\n",
      "Epoch 4/40\n",
      "15000/15000 [==============================] - 0s 21us/step - loss: 7.9999 - acc: 0.0000e+00 - val_loss: 8.1413 - val_acc: 0.0000e+00\n",
      "Epoch 5/40\n",
      "15000/15000 [==============================] - 0s 21us/step - loss: 8.0021 - acc: 0.0000e+00 - val_loss: 8.1413 - val_acc: 0.0000e+00\n",
      "Epoch 6/40\n",
      "15000/15000 [==============================] - 0s 22us/step - loss: 8.0021 - acc: 0.0000e+00 - val_loss: 8.1413 - val_acc: 0.0000e+00\n",
      "Epoch 7/40\n",
      "15000/15000 [==============================] - 0s 21us/step - loss: 8.0021 - acc: 0.0000e+00 - val_loss: 8.1413 - val_acc: 0.0000e+00\n",
      "Epoch 8/40\n",
      "15000/15000 [==============================] - 0s 21us/step - loss: 8.0021 - acc: 0.0000e+00 - val_loss: 8.1413 - val_acc: 0.0000e+00\n",
      "Epoch 9/40\n",
      "15000/15000 [==============================] - 0s 21us/step - loss: 8.0021 - acc: 0.0000e+00 - val_loss: 8.1413 - val_acc: 0.0000e+00\n",
      "Epoch 10/40\n",
      "15000/15000 [==============================] - 0s 21us/step - loss: 8.0021 - acc: 0.0000e+00 - val_loss: 8.1413 - val_acc: 0.0000e+00\n",
      "Epoch 11/40\n",
      "15000/15000 [==============================] - 0s 21us/step - loss: 8.0021 - acc: 0.0000e+00 - val_loss: 8.1413 - val_acc: 0.0000e+00\n",
      "Epoch 12/40\n",
      "15000/15000 [==============================] - 0s 22us/step - loss: 8.0021 - acc: 0.0000e+00 - val_loss: 8.1413 - val_acc: 0.0000e+00\n",
      "Epoch 13/40\n",
      "15000/15000 [==============================] - 0s 23us/step - loss: 8.0021 - acc: 0.0000e+00 - val_loss: 8.1413 - val_acc: 0.0000e+00\n",
      "Epoch 14/40\n",
      "15000/15000 [==============================] - 0s 22us/step - loss: 8.0021 - acc: 0.0000e+00 - val_loss: 8.1413 - val_acc: 0.0000e+00\n",
      "Epoch 15/40\n",
      "15000/15000 [==============================] - 0s 21us/step - loss: 8.0021 - acc: 0.0000e+00 - val_loss: 8.1413 - val_acc: 0.0000e+00\n",
      "Epoch 16/40\n",
      "15000/15000 [==============================] - 0s 20us/step - loss: 8.0021 - acc: 0.0000e+00 - val_loss: 8.1413 - val_acc: 0.0000e+00\n",
      "Epoch 17/40\n",
      "15000/15000 [==============================] - 0s 22us/step - loss: 8.0021 - acc: 0.0000e+00 - val_loss: 8.1413 - val_acc: 0.0000e+00\n",
      "Epoch 18/40\n",
      "15000/15000 [==============================] - 0s 20us/step - loss: 8.0021 - acc: 0.0000e+00 - val_loss: 8.1413 - val_acc: 0.0000e+00\n",
      "Epoch 19/40\n",
      "15000/15000 [==============================] - 0s 20us/step - loss: 8.0021 - acc: 0.0000e+00 - val_loss: 8.1413 - val_acc: 0.0000e+00\n",
      "Epoch 20/40\n",
      "15000/15000 [==============================] - 0s 20us/step - loss: 8.0021 - acc: 0.0000e+00 - val_loss: 8.1413 - val_acc: 0.0000e+00\n",
      "Epoch 21/40\n",
      "15000/15000 [==============================] - 0s 19us/step - loss: 8.0021 - acc: 0.0000e+00 - val_loss: 8.1413 - val_acc: 0.0000e+00\n",
      "Epoch 22/40\n",
      "15000/15000 [==============================] - 0s 21us/step - loss: 8.0021 - acc: 0.0000e+00 - val_loss: 8.1413 - val_acc: 0.0000e+00\n",
      "Epoch 23/40\n",
      "15000/15000 [==============================] - 0s 19us/step - loss: 8.0021 - acc: 0.0000e+00 - val_loss: 8.1413 - val_acc: 0.0000e+00\n",
      "Epoch 24/40\n",
      "15000/15000 [==============================] - 0s 19us/step - loss: 8.0021 - acc: 0.0000e+00 - val_loss: 8.1413 - val_acc: 0.0000e+00\n",
      "Epoch 25/40\n",
      "15000/15000 [==============================] - 0s 20us/step - loss: 8.0021 - acc: 0.0000e+00 - val_loss: 8.1413 - val_acc: 0.0000e+00\n",
      "Epoch 26/40\n",
      "15000/15000 [==============================] - 0s 18us/step - loss: 8.0021 - acc: 0.0000e+00 - val_loss: 8.1413 - val_acc: 0.0000e+00\n",
      "Epoch 27/40\n",
      "15000/15000 [==============================] - 0s 18us/step - loss: 8.0021 - acc: 0.0000e+00 - val_loss: 8.1413 - val_acc: 0.0000e+00\n",
      "Epoch 28/40\n",
      "15000/15000 [==============================] - 0s 20us/step - loss: 8.0021 - acc: 0.0000e+00 - val_loss: 8.1413 - val_acc: 0.0000e+00\n",
      "Epoch 29/40\n",
      "15000/15000 [==============================] - 0s 18us/step - loss: 8.0021 - acc: 0.0000e+00 - val_loss: 8.1413 - val_acc: 0.0000e+00\n",
      "Epoch 30/40\n",
      "15000/15000 [==============================] - 0s 20us/step - loss: 8.0021 - acc: 0.0000e+00 - val_loss: 8.1413 - val_acc: 0.0000e+00\n",
      "Epoch 31/40\n",
      "15000/15000 [==============================] - 0s 19us/step - loss: 8.0021 - acc: 0.0000e+00 - val_loss: 8.1413 - val_acc: 0.0000e+00\n",
      "Epoch 32/40\n",
      "15000/15000 [==============================] - 0s 20us/step - loss: 8.0021 - acc: 0.0000e+00 - val_loss: 8.1413 - val_acc: 0.0000e+00\n",
      "Epoch 33/40\n",
      "15000/15000 [==============================] - 0s 19us/step - loss: 8.0021 - acc: 0.0000e+00 - val_loss: 8.1413 - val_acc: 0.0000e+00\n",
      "Epoch 34/40\n",
      "15000/15000 [==============================] - 0s 19us/step - loss: 8.0021 - acc: 0.0000e+00 - val_loss: 8.1413 - val_acc: 0.0000e+00\n",
      "Epoch 35/40\n",
      "15000/15000 [==============================] - 0s 20us/step - loss: 8.0021 - acc: 0.0000e+00 - val_loss: 8.1413 - val_acc: 0.0000e+00\n",
      "Epoch 36/40\n",
      "15000/15000 [==============================] - 0s 19us/step - loss: 8.0021 - acc: 0.0000e+00 - val_loss: 8.1413 - val_acc: 0.0000e+00\n",
      "Epoch 37/40\n",
      "15000/15000 [==============================] - 0s 18us/step - loss: 8.0021 - acc: 0.0000e+00 - val_loss: 8.1413 - val_acc: 0.0000e+00\n",
      "Epoch 38/40\n",
      "15000/15000 [==============================] - 0s 20us/step - loss: 8.0021 - acc: 0.0000e+00 - val_loss: 8.1413 - val_acc: 0.0000e+00\n",
      "Epoch 39/40\n",
      "15000/15000 [==============================] - 0s 20us/step - loss: 8.0021 - acc: 0.0000e+00 - val_loss: 8.1413 - val_acc: 0.0000e+00\n",
      "Epoch 40/40\n",
      "15000/15000 [==============================] - 0s 20us/step - loss: 8.0021 - acc: 0.0000e+00 - val_loss: 8.1413 - val_acc: 0.0000e+00\n"
     ]
    }
   ],
   "source": [
    "test_history = test_model.fit(partial_x_train,\n",
    "                    partial_y_train,\n",
    "                    epochs=40,\n",
    "                    batch_size=512,\n",
    "                    validation_data=(x_val, y_val),\n",
    "                    verbose=1)"
   ]
  },
  {
   "cell_type": "code",
   "execution_count": 32,
   "metadata": {
    "colab": {},
    "colab_type": "code",
    "id": "YEivVVbfhWGZ"
   },
   "outputs": [],
   "source": [
    "test_analyzer = innvestigate.create_analyzer('lrp.z', test_model)"
   ]
  },
  {
   "cell_type": "code",
   "execution_count": 33,
   "metadata": {
    "colab": {},
    "colab_type": "code",
    "id": "w1zo8G1Ehhob"
   },
   "outputs": [
    {
     "data": {
      "text/plain": [
       "array([[-2.34338030e-01, -3.23373127e+00, -1.75883782e+00, ...,\n",
       "        -0.00000000e+00, -0.00000000e+00, -0.00000000e+00],\n",
       "       [-2.26649970e-01, -4.43454132e+01, -1.08291885e+02, ...,\n",
       "        -0.00000000e+00, -0.00000000e+00, -0.00000000e+00],\n",
       "       [-2.09757969e-01, -3.21598387e+00, -3.54062724e+00, ...,\n",
       "        -0.00000000e+00, -0.00000000e+00, -0.00000000e+00],\n",
       "       ...,\n",
       "       [-2.52461791e-01, -2.58691144e+00, -4.36033785e-01, ...,\n",
       "        -0.00000000e+00, -0.00000000e+00, -0.00000000e+00],\n",
       "       [-2.55885035e-01, -3.43169067e+02, -5.66210449e+02, ...,\n",
       "        -0.00000000e+00, -0.00000000e+00, -0.00000000e+00],\n",
       "       [-1.75762415e-01, -3.54711342e+00, -2.11251095e-01, ...,\n",
       "         0.00000000e+00, -0.00000000e+00, -0.00000000e+00]], dtype=float32)"
      ]
     },
     "execution_count": 33,
     "metadata": {},
     "output_type": "execute_result"
    }
   ],
   "source": [
    "test_analyzer.analyze(train_data)"
   ]
  },
  {
   "cell_type": "markdown",
   "metadata": {
    "colab_type": "text",
    "id": "1fIpmw-RRPsF"
   },
   "source": [
    "No errors now. Yay!"
   ]
  },
  {
   "cell_type": "code",
   "execution_count": 34,
   "metadata": {
    "colab": {},
    "colab_type": "code",
    "id": "m36PGE85hlOa"
   },
   "outputs": [],
   "source": [
    "a = np.squeeze(test_analyzer.analyze(train_data)) #modifying analysis into array of relevance scores\n"
   ]
  },
  {
   "cell_type": "code",
   "execution_count": 35,
   "metadata": {
    "colab": {},
    "colab_type": "code",
    "id": "z2aeI9wtn12c"
   },
   "outputs": [],
   "source": [
    "words = decode_review(train_data[0]) #translate the words from numbers to actual words"
   ]
  },
  {
   "cell_type": "code",
   "execution_count": 36,
   "metadata": {
    "colab": {},
    "colab_type": "code",
    "id": "9nOQOUiQpPSw"
   },
   "outputs": [],
   "source": [
    "words = words.split(\" \") #turn string of words into a list"
   ]
  },
  {
   "cell_type": "markdown",
   "metadata": {
    "colab_type": "text",
    "id": "DXsyodnPRWmy"
   },
   "source": [
    "This function is taken right from iNNvestigate's Sentiment analysis example( https://github.com/albermax/innvestigate/blob/master/examples/notebooks/sentiment_analysis.ipynb). It takes in a list of words and an array of their relevance scores, and it creates a visualization of each word's relevance."
   ]
  },
  {
   "cell_type": "code",
   "execution_count": 37,
   "metadata": {
    "colab": {},
    "colab_type": "code",
    "id": "ORsaLuvUqZBI"
   },
   "outputs": [],
   "source": [
    "from matplotlib import cm, transforms\n"
   ]
  },
  {
   "cell_type": "code",
   "execution_count": 38,
   "metadata": {
    "colab": {},
    "colab_type": "code",
    "id": "iPHXdk5-pQx8"
   },
   "outputs": [],
   "source": [
    "# This is a utility method visualizing the relevance scores of each word to the network's prediction. \n",
    "# one might skip understanding the function, and see its output first.\n",
    "def plot_text_heatmap(words, scores, title=\"\", width=10, height=0.2, verbose=0, max_word_per_line=20):\n",
    "    fig = plt.figure(figsize=(width, height))\n",
    "    \n",
    "    ax = plt.gca()\n",
    "\n",
    "    ax.set_title(title, loc='left')\n",
    "    tokens = words\n",
    "    if verbose > 0:\n",
    "        print('len words : %d | len scores : %d' % (len(words), len(scores)))\n",
    "\n",
    "    cmap = plt.cm.ScalarMappable(cmap=cm.bwr)\n",
    "    cmap.set_clim(0, 1)\n",
    "    \n",
    "    canvas = ax.figure.canvas\n",
    "    t = ax.transData\n",
    "\n",
    "    # normalize scores to the followings:\n",
    "    # - negative scores in [0, 0.5]\n",
    "    # - positive scores in (0.5, 1]\n",
    "    normalized_scores = 0.5 * scores / np.max(np.abs(scores)) + 0.5\n",
    "    \n",
    "    if verbose > 1:\n",
    "        print('Raw score')\n",
    "        print(scores)\n",
    "        print('Normalized score')\n",
    "        print(normalized_scores)\n",
    "\n",
    "    # make sure the heatmap doesn't overlap with the title\n",
    "    loc_y = -0.2\n",
    "\n",
    "    for i, token in enumerate(tokens):\n",
    "        *rgb, _ = cmap.to_rgba(normalized_scores[i], bytes=True)\n",
    "        color = '#%02x%02x%02x' % tuple(rgb)\n",
    "        \n",
    "        text = ax.text(0.0, loc_y, token,\n",
    "                       bbox={\n",
    "                           'facecolor': color,\n",
    "                           'pad': 5.0,\n",
    "                           'linewidth': 1,\n",
    "                           'boxstyle': 'round,pad=0.5'\n",
    "                       }, transform=t)\n",
    "\n",
    "        text.draw(canvas.get_renderer())\n",
    "        ex = text.get_window_extent()\n",
    "        \n",
    "        # create a new line if the line exceeds the length\n",
    "        if (i+1) % max_word_per_line == 0:\n",
    "            loc_y = loc_y -  2.5\n",
    "            t = ax.transData\n",
    "        else:\n",
    "            t = transforms.offset_copy(text._transform, x=ex.width+15, units='dots')\n",
    "\n",
    "    if verbose == 0:\n",
    "        ax.axis('off')"
   ]
  },
  {
   "cell_type": "code",
   "execution_count": 39,
   "metadata": {
    "colab": {},
    "colab_type": "code",
    "id": "Y3g1U9SOp00s"
   },
   "outputs": [
    {
     "data": {
      "image/png": "[encoded data removed]",
      "text/plain": [
       "<Figure size 720x14.4 with 1 Axes>"
      ]
     },
     "metadata": {
      "needs_background": "light"
     },
     "output_type": "display_data"
    }
   ],
   "source": [
    "plot_text_heatmap(words, a[0])"
   ]
  },
  {
   "cell_type": "markdown",
   "metadata": {
    "colab_type": "text",
    "id": "AaxUnWQ5R2p_"
   },
   "source": [
    "The explanation is bad becuase the model is bad, but it works!"
   ]
  },
  {
   "cell_type": "code",
   "execution_count": null,
   "metadata": {
    "colab": {},
    "colab_type": "code",
    "id": "wbp40d-WR5jk"
   },
   "outputs": [],
   "source": []
  }
 ],
 "metadata": {
  "colab": {
   "collapsed_sections": [],
   "name": "basic_text_classification_explained.ipynb",
   "provenance": [],
   "version": "0.3.2"
  },
  "kernelspec": {
   "display_name": "Python 3",
   "language": "python",
   "name": "python3"
  },
  "language_info": {
   "codemirror_mode": {
    "name": "ipython",
    "version": 3
   },
   "file_extension": ".py",
   "mimetype": "text/x-python",
   "name": "python",
   "nbconvert_exporter": "python",
   "pygments_lexer": "ipython3",
   "version": "3.7.3"
  }
 },
 "nbformat": 4,
 "nbformat_minor": 1
}
