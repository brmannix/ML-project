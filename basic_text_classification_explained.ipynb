{
  "nbformat": 4,
  "nbformat_minor": 0,
  "metadata": {
    "colab": {
      "name": "basic_text_classification_explained.ipynb",
      "version": "0.3.2",
      "provenance": [],
      "collapsed_sections": []
    },
    "kernelspec": {
      "name": "python3",
      "display_name": "Python 3"
    }
  },
  "cells": [
    {
      "cell_type": "markdown",
      "metadata": {
        "colab_type": "text",
        "id": "ItXfxkxvosLH"
      },
      "source": [
        "# Text classification with movie reviews"
      ]
    },
    {
      "cell_type": "markdown",
      "metadata": {
        "id": "uQmry6WUP1K3",
        "colab_type": "text"
      },
      "source": [
        "**The model itself is unchanged from the original tensorflow example. Jump to \"Explaination\" for what I added.**"
      ]
    },
    {
      "cell_type": "markdown",
      "metadata": {
        "colab_type": "text",
        "id": "Eg62Pmz3o83v"
      },
      "source": [
        "\n",
        "This notebook classifies movie reviews as *positive* or *negative* using the text of the review. This is an example of *binary*—or two-class—classification, an important and widely applicable kind of machine learning problem.\n",
        "\n",
        "We'll use the [IMDB dataset](https://www.tensorflow.org/api_docs/python/tf/keras/datasets/imdb) that contains the text of 50,000 movie reviews from the [Internet Movie Database](https://www.imdb.com/). These are split into 25,000 reviews for training and 25,000 reviews for testing. The training and testing sets are *balanced*, meaning they contain an equal number of positive and negative reviews.\n",
        "\n",
        "This notebook uses [tf.keras](https://www.tensorflow.org/guide/keras), a high-level API to build and train models in TensorFlow. For a more advanced text classification tutorial using `tf.keras`, see the [MLCC Text Classification Guide](https://developers.google.com/machine-learning/guides/text-classification/)."
      ]
    },
    {
      "cell_type": "code",
      "metadata": {
        "colab_type": "code",
        "id": "2ew7HTbPpCJH",
        "colab": {}
      },
      "source": [
        "from __future__ import absolute_import, division, print_function, unicode_literals\n",
        "\n",
        "import tensorflow as tf\n",
        "import keras\n",
        "\n",
        "import numpy as np\n",
        "\n",
        "print(keras.__version__)\n",
        "\n",
        "from keras import backend as K"
      ],
      "execution_count": 0,
      "outputs": []
    },
    {
      "cell_type": "markdown",
      "metadata": {
        "colab_type": "text",
        "id": "iAsKG535pHep"
      },
      "source": [
        "## Download the IMDB dataset"
      ]
    },
    {
      "cell_type": "code",
      "metadata": {
        "colab_type": "code",
        "id": "zXXx5Oc3pOmN",
        "colab": {}
      },
      "source": [
        "imdb = tf.keras.datasets.imdb\n",
        "\n",
        "\n",
        "(train_data, train_labels), (test_data, test_labels) = imdb.load_data(num_words=10000)"
      ],
      "execution_count": 0,
      "outputs": []
    },
    {
      "cell_type": "markdown",
      "metadata": {
        "colab_type": "text",
        "id": "odr-KlzO-lkL"
      },
      "source": [
        "The argument `num_words=10000` keeps the top 10,000 most frequently occurring words in the training data. The rare words are discarded to keep the size of the data manageable."
      ]
    },
    {
      "cell_type": "code",
      "metadata": {
        "colab_type": "code",
        "id": "y8qCnve_-lkO",
        "colab": {}
      },
      "source": [
        "print(\"Training entries: {}, labels: {}\".format(len(train_data), len(train_labels)))"
      ],
      "execution_count": 0,
      "outputs": []
    },
    {
      "cell_type": "markdown",
      "metadata": {
        "colab_type": "text",
        "id": "RnKvHWW4-lkW"
      },
      "source": [
        "The text of reviews have been converted to integers, where each integer represents a specific word in a dictionary. Here's what the first review looks like:"
      ]
    },
    {
      "cell_type": "code",
      "metadata": {
        "colab_type": "code",
        "id": "QtTS4kpEpjbi",
        "colab": {}
      },
      "source": [
        "print(train_data[0])"
      ],
      "execution_count": 0,
      "outputs": []
    },
    {
      "cell_type": "markdown",
      "metadata": {
        "colab_type": "text",
        "id": "hIE4l_72x7DP"
      },
      "source": [
        "Movie reviews may be different lengths. The below code shows the number of words in the first and second reviews. Since inputs to a neural network must be the same length, we'll need to resolve this later."
      ]
    },
    {
      "cell_type": "code",
      "metadata": {
        "colab_type": "code",
        "id": "X-6Ii9Pfx6Nr",
        "colab": {}
      },
      "source": [
        "len(train_data[0]), len(train_data[1])"
      ],
      "execution_count": 0,
      "outputs": []
    },
    {
      "cell_type": "markdown",
      "metadata": {
        "colab_type": "text",
        "id": "4wJg2FiYpuoX"
      },
      "source": [
        "### Convert the integers back to words\n"
      ]
    },
    {
      "cell_type": "code",
      "metadata": {
        "colab_type": "code",
        "id": "tr5s_1alpzop",
        "colab": {}
      },
      "source": [
        "# A dictionary mapping words to an integer index\n",
        "word_index = imdb.get_word_index()\n",
        "\n",
        "# The first indices are reserved\n",
        "word_index = {k:(v+3) for k,v in word_index.items()}\n",
        "word_index[\"<PAD>\"] = 0\n",
        "word_index[\"<START>\"] = 1\n",
        "word_index[\"<UNK>\"] = 2  # unknown\n",
        "word_index[\"<UNUSED>\"] = 3\n",
        "\n",
        "reverse_word_index = dict([(value, key) for (key, value) in word_index.items()])\n",
        "\n",
        "def decode_review(text):\n",
        "    return ' '.join([reverse_word_index.get(i, '?') for i in text])"
      ],
      "execution_count": 0,
      "outputs": []
    },
    {
      "cell_type": "markdown",
      "metadata": {
        "colab_type": "text",
        "id": "U3CNRvEZVppl"
      },
      "source": [
        "Now we can use the `decode_review` function to display the text for the first review:"
      ]
    },
    {
      "cell_type": "code",
      "metadata": {
        "colab_type": "code",
        "id": "s_OqxmH6-lkn",
        "colab": {}
      },
      "source": [
        "decode_review(train_data[0])"
      ],
      "execution_count": 0,
      "outputs": []
    },
    {
      "cell_type": "code",
      "metadata": {
        "id": "IlVYvIz8mPAZ",
        "colab_type": "code",
        "colab": {}
      },
      "source": [
        "train_labels[0]"
      ],
      "execution_count": 0,
      "outputs": []
    },
    {
      "cell_type": "markdown",
      "metadata": {
        "colab_type": "text",
        "id": "lFP_XKVRp4_S"
      },
      "source": [
        "## Prepare the data\n",
        "\n",
        "The reviews—the arrays of integers—must be converted to tensors before fed into the neural network. This conversion can be done a couple of ways:\n",
        "\n",
        "* Convert the arrays into vectors of 0s and 1s indicating word occurrence, similar to a one-hot encoding. For example, the sequence  [3, 5] would become a 10,000-dimensional vector that is all zeros except for indices 3 and 5, which are ones. Then, make this the first layer in our network—a Dense layer—that can handle floating point vector data. This approach is memory intensive, though, requiring a `num_words * num_reviews` size matrix.\n",
        "\n",
        "* Alternatively, we can pad the arrays so they all have the same length, then create an integer tensor of shape `max_length * num_reviews`. We can use an embedding layer capable of handling this shape as the first layer in our network.\n",
        "\n",
        "In this tutorial, we will use the second approach.\n",
        "\n",
        "Since the movie reviews must be the same length, we will use the [pad_sequences](https://keras.io/preprocessing/sequence/#pad_sequences) function to standardize the lengths:"
      ]
    },
    {
      "cell_type": "code",
      "metadata": {
        "colab_type": "code",
        "id": "2jQv-omsHurp",
        "colab": {}
      },
      "source": [
        "train_data = keras.preprocessing.sequence.pad_sequences(train_data,\n",
        "                                                        value=word_index[\"<PAD>\"],\n",
        "                                                        padding='post',\n",
        "                                                        maxlen=256)\n",
        "\n",
        "test_data = keras.preprocessing.sequence.pad_sequences(test_data,\n",
        "                                                       value=word_index[\"<PAD>\"],\n",
        "                                                       padding='post',\n",
        "                                                       maxlen=256)"
      ],
      "execution_count": 0,
      "outputs": []
    },
    {
      "cell_type": "markdown",
      "metadata": {
        "colab_type": "text",
        "id": "LLC02j2g-llC"
      },
      "source": [
        "## Build the model\n"
      ]
    },
    {
      "cell_type": "code",
      "metadata": {
        "colab_type": "code",
        "id": "xpKOoWgu-llD",
        "colab": {}
      },
      "source": [
        "# input shape is the vocabulary count used for the movie reviews (10,000 words)\n",
        "vocab_size = 10000\n",
        "\n",
        "model = keras.Sequential()\n",
        "model.add(keras.layers.Embedding(vocab_size, 16))\n",
        "model.add(keras.layers.GlobalAveragePooling1D())\n",
        "model.add(keras.layers.Dense(16, activation=tf.nn.relu))\n",
        "model.add(keras.layers.Dense(1))\n",
        "\n",
        "model.summary()"
      ],
      "execution_count": 0,
      "outputs": []
    },
    {
      "cell_type": "markdown",
      "metadata": {
        "colab_type": "text",
        "id": "L4EqVWg4-llM"
      },
      "source": [
        "### Loss function and optimizer\n"
      ]
    },
    {
      "cell_type": "code",
      "metadata": {
        "colab_type": "code",
        "id": "Mr0GP-cQ-llN",
        "colab": {}
      },
      "source": [
        "model.compile(optimizer='adam',\n",
        "              loss='binary_crossentropy',\n",
        "              metrics=['acc'])"
      ],
      "execution_count": 0,
      "outputs": []
    },
    {
      "cell_type": "markdown",
      "metadata": {
        "colab_type": "text",
        "id": "hCWYwkug-llQ"
      },
      "source": [
        "## Create a validation set\n",
        "\n"
      ]
    },
    {
      "cell_type": "code",
      "metadata": {
        "colab_type": "code",
        "id": "-NpcXY9--llS",
        "colab": {}
      },
      "source": [
        "x_val = train_data[:10000]\n",
        "partial_x_train = train_data[10000:]\n",
        "\n",
        "y_val = train_labels[:10000]\n",
        "partial_y_train = train_labels[10000:]"
      ],
      "execution_count": 0,
      "outputs": []
    },
    {
      "cell_type": "markdown",
      "metadata": {
        "colab_type": "text",
        "id": "35jv_fzP-llU"
      },
      "source": [
        "## Train the model\n"
      ]
    },
    {
      "cell_type": "code",
      "metadata": {
        "colab_type": "code",
        "id": "tXSGrjWZ-llW",
        "colab": {}
      },
      "source": [
        "history = model.fit(partial_x_train,\n",
        "                    partial_y_train,\n",
        "                    epochs=40,\n",
        "                    batch_size=512,\n",
        "                    validation_data=(x_val, y_val),\n",
        "                    verbose=1)"
      ],
      "execution_count": 0,
      "outputs": []
    },
    {
      "cell_type": "markdown",
      "metadata": {
        "colab_type": "text",
        "id": "9EEGuDVuzb5r"
      },
      "source": [
        "## Evaluate the model\n"
      ]
    },
    {
      "cell_type": "code",
      "metadata": {
        "colab_type": "code",
        "id": "zOMKywn4zReN",
        "colab": {}
      },
      "source": [
        "results = model.evaluate(test_data, test_labels)\n",
        "\n",
        "print(results)"
      ],
      "execution_count": 0,
      "outputs": []
    },
    {
      "cell_type": "code",
      "metadata": {
        "id": "2SAxdLLImPA0",
        "colab_type": "code",
        "colab": {}
      },
      "source": [
        "predictions = model.predict(train_data)\n",
        "print(train_labels[0:10])\n",
        "print()\n",
        "print(predictions[0:10])"
      ],
      "execution_count": 0,
      "outputs": []
    },
    {
      "cell_type": "code",
      "metadata": {
        "id": "r8easI14mPA3",
        "colab_type": "code",
        "colab": {}
      },
      "source": [
        "predictions[0]"
      ],
      "execution_count": 0,
      "outputs": []
    },
    {
      "cell_type": "markdown",
      "metadata": {
        "colab_type": "text",
        "id": "5KggXVeL-llZ"
      },
      "source": [
        "## Create a graph of accuracy and loss over time\n",
        "\n"
      ]
    },
    {
      "cell_type": "code",
      "metadata": {
        "colab_type": "code",
        "id": "VcvSXvhp-llb",
        "colab": {}
      },
      "source": [
        "history_dict = history.history\n",
        "history_dict.keys()"
      ],
      "execution_count": 0,
      "outputs": []
    },
    {
      "cell_type": "code",
      "metadata": {
        "colab_type": "code",
        "id": "nGoYf2Js-lle",
        "colab": {}
      },
      "source": [
        "import matplotlib.pyplot as plt\n",
        "\n",
        "acc = history_dict['acc']\n",
        "val_acc = history_dict['val_acc']\n",
        "loss = history_dict['loss']\n",
        "val_loss = history_dict['val_loss']\n",
        "\n",
        "epochs = range(1, len(acc) + 1)\n",
        "\n",
        "# \"bo\" is for \"blue dot\"\n",
        "plt.plot(epochs, loss, 'bo', label='Training loss')\n",
        "# b is for \"solid blue line\"\n",
        "plt.plot(epochs, val_loss, 'b', label='Validation loss')\n",
        "plt.title('Training and validation loss')\n",
        "plt.xlabel('Epochs')\n",
        "plt.ylabel('Loss')\n",
        "plt.legend()\n",
        "\n",
        "plt.show()"
      ],
      "execution_count": 0,
      "outputs": []
    },
    {
      "cell_type": "code",
      "metadata": {
        "colab_type": "code",
        "id": "6hXx-xOv-llh",
        "colab": {}
      },
      "source": [
        "plt.clf()   # clear figure\n",
        "\n",
        "plt.plot(epochs, acc, 'bo', label='Training acc')\n",
        "plt.plot(epochs, val_acc, 'b', label='Validation acc')\n",
        "plt.title('Training and validation accuracy')\n",
        "plt.xlabel('Epochs')\n",
        "plt.ylabel('Accuracy')\n",
        "plt.legend()\n",
        "\n",
        "plt.show()"
      ],
      "execution_count": 0,
      "outputs": []
    },
    {
      "cell_type": "markdown",
      "metadata": {
        "id": "IXF0v7G4mPBD",
        "colab_type": "text"
      },
      "source": [
        "# Explanation "
      ]
    },
    {
      "cell_type": "code",
      "metadata": {
        "id": "e_OHNlIJQiFh",
        "colab_type": "code",
        "colab": {}
      },
      "source": [
        "!pip install innvestigate"
      ],
      "execution_count": 0,
      "outputs": []
    },
    {
      "cell_type": "code",
      "metadata": {
        "id": "FKCAdaqhmPBE",
        "colab_type": "code",
        "colab": {}
      },
      "source": [
        "import innvestigate\n",
        "import innvestigate.utils as iutils"
      ],
      "execution_count": 0,
      "outputs": []
    },
    {
      "cell_type": "markdown",
      "metadata": {
        "id": "MUfIp8SAQoSY",
        "colab_type": "text"
      },
      "source": [
        "So trying with the original model threw \"'NoneType' object has no attribute '_keras_shape'\". Suspecting there was some issue with the model itself, I tried the same data with a simpler model."
      ]
    },
    {
      "cell_type": "code",
      "metadata": {
        "id": "t_MCbq48mPBG",
        "colab_type": "code",
        "colab": {}
      },
      "source": [
        "#analyzer = innvestigate.create_analyzer('lrp.z', model)\n",
        "#analyzer.analyze(train_data) "
      ],
      "execution_count": 0,
      "outputs": []
    },
    {
      "cell_type": "markdown",
      "metadata": {
        "id": "ql-LJ6TNeZRt",
        "colab_type": "text"
      },
      "source": [
        "**Test Model**"
      ]
    },
    {
      "cell_type": "markdown",
      "metadata": {
        "id": "nGHtTev0RKkw",
        "colab_type": "text"
      },
      "source": [
        ""
      ]
    },
    {
      "cell_type": "markdown",
      "metadata": {
        "id": "ROt96nSYQ87V",
        "colab_type": "text"
      },
      "source": [
        "I simply made a model of all dense layers because I know that works with iNNvestigate. The model is horribly innaccurate, but the important thing is I can show how the problem of text classification works. "
      ]
    },
    {
      "cell_type": "code",
      "metadata": {
        "id": "oONxL20zmPBN",
        "colab_type": "code",
        "colab": {}
      },
      "source": [
        "test_model = keras.Sequential()\n",
        "test_model.add(keras.layers.Dense(256))\n",
        "test_model.add(keras.layers.Dense(256))\n",
        "test_model.add(keras.layers.Dense(16, activation=tf.nn.relu))\n",
        "test_model.add(keras.layers.Dense(1))\n"
      ],
      "execution_count": 0,
      "outputs": []
    },
    {
      "cell_type": "code",
      "metadata": {
        "id": "48MBkRooetnO",
        "colab_type": "code",
        "colab": {}
      },
      "source": [
        "test_model.compile(optimizer='adam',\n",
        "              loss='binary_crossentropy',\n",
        "              metrics=['acc'])"
      ],
      "execution_count": 0,
      "outputs": []
    },
    {
      "cell_type": "code",
      "metadata": {
        "id": "QUbEZOT8fAp9",
        "colab_type": "code",
        "colab": {}
      },
      "source": [
        "test_history = test_model.fit(partial_x_train,\n",
        "                    partial_y_train,\n",
        "                    epochs=40,\n",
        "                    batch_size=512,\n",
        "                    validation_data=(x_val, y_val),\n",
        "                    verbose=1)"
      ],
      "execution_count": 0,
      "outputs": []
    },
    {
      "cell_type": "code",
      "metadata": {
        "id": "YEivVVbfhWGZ",
        "colab_type": "code",
        "colab": {}
      },
      "source": [
        "test_analyzer = innvestigate.create_analyzer('lrp.z', test_model)"
      ],
      "execution_count": 0,
      "outputs": []
    },
    {
      "cell_type": "code",
      "metadata": {
        "id": "w1zo8G1Ehhob",
        "colab_type": "code",
        "colab": {}
      },
      "source": [
        "test_analyzer.analyze(train_data)"
      ],
      "execution_count": 0,
      "outputs": []
    },
    {
      "cell_type": "markdown",
      "metadata": {
        "id": "1fIpmw-RRPsF",
        "colab_type": "text"
      },
      "source": [
        "No errors now. Yay!"
      ]
    },
    {
      "cell_type": "code",
      "metadata": {
        "id": "m36PGE85hlOa",
        "colab_type": "code",
        "colab": {}
      },
      "source": [
        "a = np.squeeze(test_analyzer.analyze(train_data)) #modifying analysis into array of relevance scores\n"
      ],
      "execution_count": 0,
      "outputs": []
    },
    {
      "cell_type": "code",
      "metadata": {
        "id": "z2aeI9wtn12c",
        "colab_type": "code",
        "colab": {}
      },
      "source": [
        "words = decode_review(train_data[0]) #translate the words from numbers to actual words"
      ],
      "execution_count": 0,
      "outputs": []
    },
    {
      "cell_type": "code",
      "metadata": {
        "id": "9nOQOUiQpPSw",
        "colab_type": "code",
        "colab": {}
      },
      "source": [
        "words = words.split(\" \") #turn string of words into a list"
      ],
      "execution_count": 0,
      "outputs": []
    },
    {
      "cell_type": "markdown",
      "metadata": {
        "id": "DXsyodnPRWmy",
        "colab_type": "text"
      },
      "source": [
        "This function is taken right from iNNvestigate's Sentiment analysis example( https://github.com/albermax/innvestigate/blob/master/examples/notebooks/sentiment_analysis.ipynb). It takes in a list of words and an array of their relevance scores, and it creates a visualization of each word's relevance."
      ]
    },
    {
      "cell_type": "code",
      "metadata": {
        "id": "ORsaLuvUqZBI",
        "colab_type": "code",
        "colab": {}
      },
      "source": [
        "from matplotlib import cm, transforms\n"
      ],
      "execution_count": 0,
      "outputs": []
    },
    {
      "cell_type": "code",
      "metadata": {
        "id": "iPHXdk5-pQx8",
        "colab_type": "code",
        "colab": {}
      },
      "source": [
        "# This is a utility method visualizing the relevance scores of each word to the network's prediction. \n",
        "# one might skip understanding the function, and see its output first.\n",
        "def plot_text_heatmap(words, scores, title=\"\", width=10, height=0.2, verbose=0, max_word_per_line=20):\n",
        "    fig = plt.figure(figsize=(width, height))\n",
        "    \n",
        "    ax = plt.gca()\n",
        "\n",
        "    ax.set_title(title, loc='left')\n",
        "    tokens = words\n",
        "    if verbose > 0:\n",
        "        print('len words : %d | len scores : %d' % (len(words), len(scores)))\n",
        "\n",
        "    cmap = plt.cm.ScalarMappable(cmap=cm.bwr)\n",
        "    cmap.set_clim(0, 1)\n",
        "    \n",
        "    canvas = ax.figure.canvas\n",
        "    t = ax.transData\n",
        "\n",
        "    # normalize scores to the followings:\n",
        "    # - negative scores in [0, 0.5]\n",
        "    # - positive scores in (0.5, 1]\n",
        "    normalized_scores = 0.5 * scores / np.max(np.abs(scores)) + 0.5\n",
        "    \n",
        "    if verbose > 1:\n",
        "        print('Raw score')\n",
        "        print(scores)\n",
        "        print('Normalized score')\n",
        "        print(normalized_scores)\n",
        "\n",
        "    # make sure the heatmap doesn't overlap with the title\n",
        "    loc_y = -0.2\n",
        "\n",
        "    for i, token in enumerate(tokens):\n",
        "        *rgb, _ = cmap.to_rgba(normalized_scores[i], bytes=True)\n",
        "        color = '#%02x%02x%02x' % tuple(rgb)\n",
        "        \n",
        "        text = ax.text(0.0, loc_y, token,\n",
        "                       bbox={\n",
        "                           'facecolor': color,\n",
        "                           'pad': 5.0,\n",
        "                           'linewidth': 1,\n",
        "                           'boxstyle': 'round,pad=0.5'\n",
        "                       }, transform=t)\n",
        "\n",
        "        text.draw(canvas.get_renderer())\n",
        "        ex = text.get_window_extent()\n",
        "        \n",
        "        # create a new line if the line exceeds the length\n",
        "        if (i+1) % max_word_per_line == 0:\n",
        "            loc_y = loc_y -  2.5\n",
        "            t = ax.transData\n",
        "        else:\n",
        "            t = transforms.offset_copy(text._transform, x=ex.width+15, units='dots')\n",
        "\n",
        "    if verbose == 0:\n",
        "        ax.axis('off')"
      ],
      "execution_count": 0,
      "outputs": []
    },
    {
      "cell_type": "code",
      "metadata": {
        "id": "Y3g1U9SOp00s",
        "colab_type": "code",
        "colab": {}
      },
      "source": [
        "plot_text_heatmap(words, a[0])"
      ],
      "execution_count": 0,
      "outputs": []
    },
    {
      "cell_type": "markdown",
      "metadata": {
        "id": "AaxUnWQ5R2p_",
        "colab_type": "text"
      },
      "source": [
        "The explanation is bad becuase the model is bad, but it works!"
      ]
    },
    {
      "cell_type": "code",
      "metadata": {
        "id": "wbp40d-WR5jk",
        "colab_type": "code",
        "colab": {}
      },
      "source": [
        ""
      ],
      "execution_count": 0,
      "outputs": []
    }
  ]
}