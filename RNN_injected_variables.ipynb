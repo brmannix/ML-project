{
 "cells": [
  {
   "cell_type": "code",
   "execution_count": 1,
   "metadata": {},
   "outputs": [
    {
     "name": "stderr",
     "output_type": "stream",
     "text": [
      "Using TensorFlow backend.\n",
      "/opt/conda/lib/python3.7/site-packages/tensorflow/python/framework/dtypes.py:526: FutureWarning: Passing (type, 1) or '1type' as a synonym of type is deprecated; in a future version of numpy, it will be understood as (type, (1,)) / '(1,)type'.\n",
      "  _np_qint8 = np.dtype([(\"qint8\", np.int8, 1)])\n",
      "/opt/conda/lib/python3.7/site-packages/tensorflow/python/framework/dtypes.py:527: FutureWarning: Passing (type, 1) or '1type' as a synonym of type is deprecated; in a future version of numpy, it will be understood as (type, (1,)) / '(1,)type'.\n",
      "  _np_quint8 = np.dtype([(\"quint8\", np.uint8, 1)])\n",
      "/opt/conda/lib/python3.7/site-packages/tensorflow/python/framework/dtypes.py:528: FutureWarning: Passing (type, 1) or '1type' as a synonym of type is deprecated; in a future version of numpy, it will be understood as (type, (1,)) / '(1,)type'.\n",
      "  _np_qint16 = np.dtype([(\"qint16\", np.int16, 1)])\n",
      "/opt/conda/lib/python3.7/site-packages/tensorflow/python/framework/dtypes.py:529: FutureWarning: Passing (type, 1) or '1type' as a synonym of type is deprecated; in a future version of numpy, it will be understood as (type, (1,)) / '(1,)type'.\n",
      "  _np_quint16 = np.dtype([(\"quint16\", np.uint16, 1)])\n",
      "/opt/conda/lib/python3.7/site-packages/tensorflow/python/framework/dtypes.py:530: FutureWarning: Passing (type, 1) or '1type' as a synonym of type is deprecated; in a future version of numpy, it will be understood as (type, (1,)) / '(1,)type'.\n",
      "  _np_qint32 = np.dtype([(\"qint32\", np.int32, 1)])\n",
      "/opt/conda/lib/python3.7/site-packages/tensorflow/python/framework/dtypes.py:535: FutureWarning: Passing (type, 1) or '1type' as a synonym of type is deprecated; in a future version of numpy, it will be understood as (type, (1,)) / '(1,)type'.\n",
      "  np_resource = np.dtype([(\"resource\", np.ubyte, 1)])\n"
     ]
    }
   ],
   "source": [
    "# TensorFlow and tf.keras\n",
    "\n",
    "# import tensorflow as tf\n",
    "\n",
    "# from tensorflow import keras\n",
    "# from tensorflow.keras import layers\n",
    "# from tensorflow.keras import models\n",
    "# import tensorflow.keras.utils\n",
    "import pandas as pd\n",
    "\n",
    "import keras\n",
    "import keras.backend\n",
    "from keras import layers\n",
    "from keras import models\n",
    "import keras.utils\n",
    "\n",
    "\n",
    "\n",
    "# Helper libraries\n",
    "import numpy as np\n",
    "import matplotlib.pyplot as plt\n",
    "from matplotlib.colors import LogNorm\n",
    "import math\n",
    "import time\n",
    "import h5py\n",
    "import sklearn\n",
    "from sklearn.utils import shuffle\n",
    "\n",
    "import os"
   ]
  },
  {
   "cell_type": "code",
   "execution_count": 2,
   "metadata": {},
   "outputs": [
    {
     "name": "stdout",
     "output_type": "stream",
     "text": [
      "99240 99240\n"
     ]
    }
   ],
   "source": [
    "data = np.load('/mnt/data/ml/Constituent4vecDataTest.npz')\n",
    "#evnum = data['jetconstEvnum']\n",
    "pt = data['jetconstPt']\n",
    "eta = data['jetconstEta']\n",
    "phi = data['jetconstPhi']\n",
    "labels = data['labels']\n",
    "tau21 = data['tau21']\n",
    "chMult = data['chMult']\n",
    "\n",
    "pt = pt.reshape(336227, 20)\n",
    "eta = eta.reshape(336227, 20)\n",
    "phi = phi.reshape(336227, 20)\n",
    "labels = labels[::20]\n",
    "\n",
    "fourvec = np.stack((pt,eta,phi), axis = -1)\n",
    "\n",
    "#ensure same number of signal vs. background and even split of z events\n",
    "qcd_vec = fourvec[np.where(labels[:,0] == 1)]\n",
    "qcd_tau = tau21[np.where(labels[:,0] == 1)]\n",
    "qcd_mult = chMult[np.where(labels[:,0] == 1)]\n",
    "\n",
    "if len(qcd_vec) % 3 != 0:\n",
    "    qcd_vec = qcd_vec[:len(qcd_vec)-(len(qcd_vec) % 3)]\n",
    "    qcd_tau = qcd_tau[:len(qcd_vec)-(len(qcd_vec) % 3)]\n",
    "    qcd_mult = qcd_mult[:len(qcd_vec)-(len(qcd_vec) % 3)]\n",
    "    \n",
    "z1_vec = fourvec[np.where(labels[:,1] == 1)]\n",
    "z1_vec = z1_vec[:int(len(qcd_vec)/3)]\n",
    "z1_tau = tau21[np.where(labels[:,1] == 1)]\n",
    "z1_tau = z1_tau[:int(len(qcd_vec)/3)]\n",
    "z1_mult = chMult[np.where(labels[:,1] == 1)]\n",
    "z1_mult = z1_mult[:int(len(qcd_vec)/3)]\n",
    "\n",
    "z2_vec = fourvec[np.where(labels[:,2] == 1)]\n",
    "z2_vec = z2_vec[:int(len(qcd_vec)/3)]\n",
    "z2_tau = tau21[np.where(labels[:,2] == 1)]\n",
    "z2_tau = z2_tau[:int(len(qcd_vec)/3)]\n",
    "z2_mult = chMult[np.where(labels[:,2] == 1)]\n",
    "z2_mult = z1_mult[:int(len(qcd_vec)/3)]\n",
    "\n",
    "z3_vec = fourvec[np.where(labels[:,3] == 1)]\n",
    "z3_vec = z3_vec[:int(len(qcd_vec)/3)]\n",
    "z3_tau = tau21[np.where(labels[:,3] == 1)]\n",
    "z3_tau = z3_tau[:int(len(qcd_vec)/3)]\n",
    "z3_mult = chMult[np.where(labels[:,3] == 1)]\n",
    "z3_mult = z1_mult[:int(len(qcd_vec)/3)]\n",
    "\n",
    "qcd_lab = np.zeros([len(qcd_vec), 2])\n",
    "qcd_lab[:,0] = 1\n",
    "z_lab = np.zeros([len(qcd_vec), 2])\n",
    "z_lab[:,1] = 1\n",
    "\n",
    "fourvec = np.vstack((qcd_vec, z1_vec, z2_vec, z3_vec))\n",
    "taus = np.hstack((qcd_tau, z1_tau, z2_tau, z3_tau))\n",
    "mults = np.hstack((qcd_mult, z1_mult, z2_mult, z3_mult))\n",
    "labels = np.vstack((qcd_lab, z_lab))\n",
    "print(len(labels), len(fourvec))\n",
    "\n",
    "#split data into testing/training/validation\n",
    "n_data = len(fourvec)\n",
    "testvec = fourvec[::4]\n",
    "testlabels = labels[::4]\n",
    "testtaus = taus[::4]\n",
    "testmults = mults[::4]\n",
    "\n",
    "mask_vec = np.ones(fourvec.shape,dtype=bool)\n",
    "mask_vec[::4] = 0\n",
    "mask_vec[1::8] = 0\n",
    "mask_lab = np.ones(labels.shape,dtype=bool)\n",
    "mask_lab[::4] = 0\n",
    "mask_lab[1::8] = 0\n",
    "mask_tau = np.ones(taus.shape,dtype=bool)\n",
    "mask_tau[::4] = 0\n",
    "mask_tau[1::8] = 0\n",
    "mask_mult = np.ones(mults.shape,dtype=bool)\n",
    "mask_mult[::4] = 0\n",
    "mask_mult[1::8] = 0\n",
    "\n",
    "valvec = fourvec[1::8]\n",
    "vallabels = labels[1::8]\n",
    "valtaus = taus[1::8]\n",
    "valmults = mults[1::8]\n",
    "\n",
    "trainvec = fourvec[mask_vec].reshape((n_data-len(testvec)-len(valvec)),20,3)\n",
    "trainlabels = labels[mask_lab].reshape((n_data-len(testvec)-len(valvec)), 2)\n",
    "traintaus = taus[mask_tau].reshape((n_data-len(testvec)-len(valvec)), 1)\n",
    "trainmults = mults[mask_mult].reshape((n_data-len(testvec)-len(valvec)), 1)"
   ]
  },
  {
   "cell_type": "code",
   "execution_count": 3,
   "metadata": {},
   "outputs": [],
   "source": [
    "def build_model():\n",
    "    \n",
    "    input1 = layers.Input(shape = (20,3))\n",
    "\n",
    "#    x = layers.Dense(64, activation='relu', name = 'relu1')(input1)\n",
    "    x = layers.GRU(4*rnn_units, return_sequences = True, name = 'gru1')(input1)\n",
    "    x = layers.GRU(4*rnn_units, return_sequences = True, name = 'gru2')(x)\n",
    "    x = layers.BatchNormalization()(x)\n",
    "    x = layers.GRU(rnn_units, return_sequences = True, name = 'gru3')(x)\n",
    "#     x = layers.BatchNormalization()(x)\n",
    "#     x = layers.GRU(rnn_units, return_sequences = True, name = 'gru4')(x)\n",
    "    \n",
    "    xf = layers.Flatten(name = \"flatten\")(x)\n",
    "    \n",
    "    input2 = layers.Input(shape=(1,))\n",
    "    input3 = layers.Input(shape=(1,))\n",
    "    \n",
    "    x = layers.concatenate(inputs = [xf, input2, input3],axis=-1)\n",
    "    \n",
    "    x = layers.Dense(256, activation= 'relu', name = 'dense1')(x)\n",
    "    \n",
    "\n",
    "    output = layers.Dense(2, activation='softmax', name = 'output')(x)\n",
    "\n",
    "    model = models.Model(inputs= [input1, input2, input3], outputs=output)\n",
    "    model.compile(loss='categorical_crossentropy',\n",
    "                optimizer='adam',\n",
    "                metrics=['categorical_crossentropy', 'accuracy'])\n",
    "    return model"
   ]
  },
  {
   "cell_type": "code",
   "execution_count": 4,
   "metadata": {},
   "outputs": [
    {
     "name": "stdout",
     "output_type": "stream",
     "text": [
      "WARNING:tensorflow:From /opt/conda/lib/python3.7/site-packages/tensorflow/python/framework/op_def_library.py:263: colocate_with (from tensorflow.python.framework.ops) is deprecated and will be removed in a future version.\n",
      "Instructions for updating:\n",
      "Colocations handled automatically by placer.\n"
     ]
    }
   ],
   "source": [
    "rnn_units = 32\n",
    "batch = 20\n",
    "\n",
    "RNN = build_model()"
   ]
  },
  {
   "cell_type": "code",
   "execution_count": 5,
   "metadata": {
    "scrolled": true
   },
   "outputs": [
    {
     "name": "stdout",
     "output_type": "stream",
     "text": [
      "207/207 [==============================] - 0s 1ms/step\n",
      "[[0.60429835 0.39570165]\n",
      " [0.74676657 0.2532335 ]\n",
      " [0.53589356 0.46410647]\n",
      " [0.5607308  0.43926913]\n",
      " [0.59891164 0.40108836]\n",
      " [0.6184808  0.3815192 ]\n",
      " [0.56840605 0.43159392]\n",
      " [0.52497923 0.47502077]\n",
      " [0.5624142  0.4375858 ]\n",
      " [0.59145856 0.40854144]\n",
      " [0.6061231  0.39387697]\n",
      " [0.58702964 0.4129704 ]\n",
      " [0.62566584 0.37433416]\n",
      " [0.6593111  0.3406889 ]\n",
      " [0.65225863 0.34774143]\n",
      " [0.58103937 0.41896066]\n",
      " [0.56415385 0.4358462 ]\n",
      " [0.6051518  0.3948482 ]\n",
      " [0.56664765 0.43335235]\n",
      " [0.62237465 0.37762532]\n",
      " [0.6368051  0.3631949 ]\n",
      " [0.5670117  0.43298835]\n",
      " [0.61829287 0.38170713]\n",
      " [0.6679736  0.33202642]\n",
      " [0.550226   0.44977406]\n",
      " [0.6235906  0.37640938]\n",
      " [0.5844623  0.4155377 ]\n",
      " [0.6004766  0.39952335]\n",
      " [0.6065062  0.3934938 ]\n",
      " [0.6374259  0.36257404]\n",
      " [0.5486656  0.45133442]\n",
      " [0.59739494 0.402605  ]\n",
      " [0.5444127  0.45558733]\n",
      " [0.75237566 0.24762435]\n",
      " [0.7400677  0.25993225]\n",
      " [0.71468854 0.2853115 ]\n",
      " [0.48947352 0.5105264 ]\n",
      " [0.8257069  0.1742931 ]\n",
      " [0.77574813 0.22425188]\n",
      " [0.6573048  0.34269515]\n",
      " [0.5924282  0.4075718 ]\n",
      " [0.7483664  0.2516336 ]\n",
      " [0.56721205 0.432788  ]\n",
      " [0.53241444 0.46758562]\n",
      " [0.66460866 0.3353914 ]\n",
      " [0.75091195 0.24908803]\n",
      " [0.5693805  0.4306195 ]\n",
      " [0.635315   0.364685  ]\n",
      " [0.6230698  0.37693015]\n",
      " [0.7207368  0.27926323]\n",
      " [0.543879   0.45612097]\n",
      " [0.5759095  0.42409045]\n",
      " [0.5676301  0.4323699 ]\n",
      " [0.66346467 0.3365353 ]\n",
      " [0.7208707  0.27912924]\n",
      " [0.6415411  0.35845888]\n",
      " [0.55678254 0.44321746]\n",
      " [0.6091407  0.39085937]\n",
      " [0.59934413 0.40065587]\n",
      " [0.6211157  0.37888435]\n",
      " [0.6332933  0.36670676]\n",
      " [0.74798095 0.25201902]\n",
      " [0.666816   0.33318394]\n",
      " [0.5731733  0.42682675]\n",
      " [0.8268682  0.17313188]\n",
      " [0.52899754 0.47100246]\n",
      " [0.54080355 0.45919648]\n",
      " [0.62613034 0.3738697 ]\n",
      " [0.55222356 0.4477764 ]\n",
      " [0.58885086 0.41114917]\n",
      " [0.55944383 0.44055617]\n",
      " [0.5002025  0.49979746]\n",
      " [0.668202   0.33179808]\n",
      " [0.5293185  0.4706815 ]\n",
      " [0.65309846 0.3469016 ]\n",
      " [0.4951204  0.50487953]\n",
      " [0.57314545 0.4268546 ]\n",
      " [0.5704746  0.4295254 ]\n",
      " [0.6115516  0.3884484 ]\n",
      " [0.61498255 0.3850174 ]\n",
      " [0.54935795 0.45064205]\n",
      " [0.5561366  0.44386336]\n",
      " [0.6809703  0.31902972]\n",
      " [0.5829033  0.41709664]\n",
      " [0.5545639  0.4454361 ]\n",
      " [0.60300523 0.39699474]\n",
      " [0.74083793 0.25916204]\n",
      " [0.6352205  0.36477947]\n",
      " [0.78069264 0.21930733]\n",
      " [0.6571701  0.34282985]\n",
      " [0.522273   0.477727  ]\n",
      " [0.65088516 0.34911487]\n",
      " [0.5291762  0.47082373]\n",
      " [0.76316154 0.23683847]\n",
      " [0.6258573  0.37414268]\n",
      " [0.59521085 0.40478918]\n",
      " [0.49865633 0.50134367]\n",
      " [0.57451385 0.42548618]\n",
      " [0.6859574  0.3140426 ]\n",
      " [0.6234726  0.37652737]\n",
      " [0.5772984  0.4227016 ]\n",
      " [0.5048357  0.49516428]\n",
      " [0.6131079  0.3868921 ]\n",
      " [0.57312405 0.42687595]\n",
      " [0.71534985 0.28465015]\n",
      " [0.59643394 0.40356603]\n",
      " [0.5402778  0.45972225]\n",
      " [0.63333803 0.366662  ]\n",
      " [0.59199435 0.4080057 ]\n",
      " [0.60867816 0.39132175]\n",
      " [0.6912358  0.30876416]\n",
      " [0.58202195 0.41797805]\n",
      " [0.6496963  0.3503037 ]\n",
      " [0.5841458  0.41585422]\n",
      " [0.5841023  0.41589767]\n",
      " [0.5807009  0.41929913]\n",
      " [0.6329622  0.36703777]\n",
      " [0.6481155  0.35188448]\n",
      " [0.59815985 0.40184015]\n",
      " [0.7310913  0.26890874]\n",
      " [0.62220514 0.3777949 ]\n",
      " [0.60978174 0.39021823]\n",
      " [0.6958957  0.30410433]\n",
      " [0.6495353  0.35046467]\n",
      " [0.57423466 0.42576537]\n",
      " [0.5704271  0.42957285]\n",
      " [0.5968096  0.40319037]\n",
      " [0.64270383 0.3572962 ]\n",
      " [0.58719975 0.41280025]\n",
      " [0.57873064 0.42126936]\n",
      " [0.58608407 0.41391596]\n",
      " [0.5567502  0.44324988]\n",
      " [0.6286756  0.37132442]\n",
      " [0.570859   0.42914096]\n",
      " [0.6085897  0.39141023]\n",
      " [0.57086885 0.42913112]\n",
      " [0.71600115 0.28399885]\n",
      " [0.58182365 0.4181763 ]\n",
      " [0.5963009  0.4036992 ]\n",
      " [0.6171     0.38290006]\n",
      " [0.594569   0.40543097]\n",
      " [0.5807785  0.41922155]\n",
      " [0.7235809  0.27641904]\n",
      " [0.6076806  0.39231938]\n",
      " [0.62444484 0.37555513]\n",
      " [0.61369544 0.3863046 ]\n",
      " [0.5339309  0.4660691 ]\n",
      " [0.6028472  0.39715278]\n",
      " [0.5948388  0.40516117]\n",
      " [0.58491766 0.41508242]\n",
      " [0.6139388  0.38606122]\n",
      " [0.6398723  0.3601277 ]\n",
      " [0.7449258  0.25507414]\n",
      " [0.60523677 0.39476323]\n",
      " [0.60310173 0.39689824]\n",
      " [0.63717437 0.36282566]\n",
      " [0.5720226  0.4279774 ]\n",
      " [0.5890557  0.41094425]\n",
      " [0.57495964 0.42504036]\n",
      " [0.5864471  0.41355288]\n",
      " [0.60222775 0.39777225]\n",
      " [0.6335855  0.36641452]\n",
      " [0.6515145  0.3484855 ]\n",
      " [0.5963247  0.40367526]\n",
      " [0.626471   0.37352908]\n",
      " [0.62295014 0.3770498 ]\n",
      " [0.5904275  0.4095724 ]\n",
      " [0.60557425 0.39442572]\n",
      " [0.5899446  0.4100554 ]\n",
      " [0.59115887 0.40884116]\n",
      " [0.72416085 0.27583924]\n",
      " [0.6154113  0.3845887 ]\n",
      " [0.58250105 0.41749898]\n",
      " [0.6137511  0.38624892]\n",
      " [0.6479961  0.3520039 ]\n",
      " [0.60350263 0.39649734]\n",
      " [0.6715184  0.32848164]\n",
      " [0.59853595 0.40146407]\n",
      " [0.58194566 0.41805428]\n",
      " [0.6342396  0.36576042]\n",
      " [0.6167693  0.38323072]\n",
      " [0.65563095 0.344369  ]\n",
      " [0.6130003  0.3869998 ]\n",
      " [0.6759157  0.3240843 ]\n",
      " [0.5881982  0.41180187]\n",
      " [0.8493217  0.15067829]\n",
      " [0.61710215 0.38289776]\n",
      " [0.5955929  0.40440708]\n",
      " [0.6089208  0.3910791 ]\n",
      " [0.56837976 0.4316202 ]\n",
      " [0.6274648  0.37253523]\n",
      " [0.57117534 0.4288247 ]\n",
      " [0.72040826 0.27959177]\n",
      " [0.6130462  0.3869538 ]\n",
      " [0.5733767  0.42662328]\n",
      " [0.62766606 0.37233394]\n",
      " [0.594787   0.40521303]\n",
      " [0.6149816  0.38501838]\n",
      " [0.5824513  0.41754878]\n",
      " [0.55736333 0.44263664]\n",
      " [0.62591475 0.37408522]\n",
      " [0.6358311  0.36416888]\n",
      " [0.5718662  0.4281338 ]\n",
      " [0.601236   0.39876398]\n",
      " [0.5771465  0.4228535 ]\n",
      " [0.6155966  0.38440338]\n",
      " [0.63383275 0.36616728]]\n",
      "[0.7290391469923194, 0.7290391469923194, 0.48792270531400966]\n"
     ]
    }
   ],
   "source": [
    "example_batch = trainvec[::300]\n",
    "example_labels = trainlabels[::300]\n",
    "example_taus = traintaus[::300]\n",
    "example_mults = trainmults[::300]\n",
    "\n",
    "example_result = RNN.predict(x = [example_batch, example_taus, example_mults])\n",
    "results = RNN.evaluate(x = [example_batch, example_taus, example_mults], y = example_labels)\n",
    "\n",
    "print(example_result)\n",
    "print(results)"
   ]
  },
  {
   "cell_type": "code",
   "execution_count": 6,
   "metadata": {},
   "outputs": [
    {
     "name": "stdout",
     "output_type": "stream",
     "text": [
      "WARNING:tensorflow:From /opt/conda/lib/python3.7/site-packages/tensorflow/python/ops/math_ops.py:3066: to_int32 (from tensorflow.python.ops.math_ops) is deprecated and will be removed in a future version.\n",
      "Instructions for updating:\n",
      "Use tf.cast instead.\n",
      "\n",
      "Epoch 00001: val_loss improved from inf to 0.45370, saving model to model/CNN1D_v3.h5\n",
      "\n",
      "Epoch 00002: val_loss did not improve from 0.45370\n",
      "\n",
      "Epoch 00003: val_loss improved from 0.45370 to 0.34767, saving model to model/CNN1D_v3.h5\n",
      "\n",
      "Epoch 00004: val_loss did not improve from 0.34767\n",
      "\n",
      "Epoch 00005: val_loss did not improve from 0.34767\n",
      "\n",
      "Epoch 00006: val_loss did not improve from 0.34767\n",
      "\n",
      "Epoch 00007: val_loss did not improve from 0.34767\n",
      "\n",
      "Epoch 00008: val_loss improved from 0.34767 to 0.27363, saving model to model/CNN1D_v3.h5\n",
      "\n",
      "Epoch 00009: val_loss did not improve from 0.27363\n",
      "\n",
      "Epoch 00010: val_loss did not improve from 0.27363\n",
      "\n",
      "Epoch 00011: val_loss did not improve from 0.27363\n",
      "\n",
      "Epoch 00012: val_loss did not improve from 0.27363\n",
      "\n",
      "Epoch 00013: val_loss did not improve from 0.27363\n",
      "\n",
      "Epoch 00014: val_loss did not improve from 0.27363\n",
      "\n",
      "Epoch 00015: val_loss did not improve from 0.27363\n",
      "\n",
      "Epoch 00016: val_loss did not improve from 0.27363\n",
      "\n",
      "Epoch 00017: val_loss did not improve from 0.27363\n",
      "\n",
      "Epoch 00018: val_loss did not improve from 0.27363\n"
     ]
    }
   ],
   "source": [
    "checkpoint_path = \"model/CNN1D_v3.h5\"\n",
    "if not os.path.exists(\"model\"):\n",
    "    os.mkdir(\"model\")\n",
    "\n",
    "# Create checkpoint callback\n",
    "# cp_callback = tf.keras.callbacks.ModelCheckpoint(checkpoint_path, \n",
    "#                                                  save_best_only=True,\n",
    "#                                                  verbose=1)\n",
    "model_checkpoint = keras.callbacks.ModelCheckpoint(checkpoint_path, monitor='val_loss', \n",
    "                                   verbose=1, save_best_only=True, \n",
    "                                   save_weights_only=False, mode='auto')    \n",
    "EPOCHS = 50\n",
    "early_stop = keras.callbacks.EarlyStopping(monitor='val_loss', patience=10)\n",
    "\n",
    "history = RNN.fit(\n",
    "  [trainvec,traintaus, trainmults], trainlabels,\n",
    "  epochs=EPOCHS, validation_split = 0.2, verbose = 0,\n",
    "  callbacks=[early_stop, model_checkpoint])"
   ]
  },
  {
   "cell_type": "code",
   "execution_count": 7,
   "metadata": {
    "scrolled": false
   },
   "outputs": [
    {
     "name": "stdout",
     "output_type": "stream",
     "text": [
      "CNN1D_v3.h5\n",
      "__________________________________________________________________________________________________\n",
      "Layer (type)                    Output Shape         Param #     Connected to                     \n",
      "==================================================================================================\n",
      "input_1 (InputLayer)            (None, 20, 3)        0                                            \n",
      "__________________________________________________________________________________________________\n",
      "gru1 (GRU)                      (None, 20, 128)      50688       input_1[0][0]                    \n",
      "__________________________________________________________________________________________________\n",
      "gru2 (GRU)                      (None, 20, 128)      98688       gru1[0][0]                       \n",
      "__________________________________________________________________________________________________\n",
      "batch_normalization_1 (BatchNor (None, 20, 128)      512         gru2[0][0]                       \n",
      "__________________________________________________________________________________________________\n",
      "gru3 (GRU)                      (None, 20, 32)       15456       batch_normalization_1[0][0]      \n",
      "__________________________________________________________________________________________________\n",
      "flatten (Flatten)               (None, 640)          0           gru3[0][0]                       \n",
      "__________________________________________________________________________________________________\n",
      "input_2 (InputLayer)            (None, 1)            0                                            \n",
      "__________________________________________________________________________________________________\n",
      "input_3 (InputLayer)            (None, 1)            0                                            \n",
      "__________________________________________________________________________________________________\n",
      "concatenate_1 (Concatenate)     (None, 642)          0           flatten[0][0]                    \n",
      "                                                                 input_2[0][0]                    \n",
      "                                                                 input_3[0][0]                    \n",
      "__________________________________________________________________________________________________\n",
      "dense1 (Dense)                  (None, 256)          164608      concatenate_1[0][0]              \n",
      "__________________________________________________________________________________________________\n",
      "output (Dense)                  (None, 2)            514         dense1[0][0]                     \n",
      "==================================================================================================\n",
      "Total params: 330,466\n",
      "Trainable params: 330,210\n",
      "Non-trainable params: 256\n",
      "__________________________________________________________________________________________________\n",
      "[0.4323421586549652, 0.4323421586549652, 0.8082627972639745]\n"
     ]
    }
   ],
   "source": [
    "!ls model\n",
    "best_model = keras.models.load_model('model/CNN1D_v3.h5')\n",
    "best_model.summary()\n",
    "results = best_model.evaluate([testvec, testtaus, testmults],  testlabels, verbose = 0)\n",
    "print(results)"
   ]
  },
  {
   "cell_type": "code",
   "execution_count": 8,
   "metadata": {},
   "outputs": [],
   "source": [
    "predict = best_model.predict([testvec , testtaus,testmults])"
   ]
  },
  {
   "cell_type": "code",
   "execution_count": 9,
   "metadata": {},
   "outputs": [
    {
     "data": {
      "image/png": "[encoded data removed]",
      "text/plain": [
       "<Figure size 432x288 with 1 Axes>"
      ]
     },
     "metadata": {
      "needs_background": "light"
     },
     "output_type": "display_data"
    }
   ],
   "source": [
    "from sklearn.metrics import roc_curve, auc\n",
    "fpr, tpr, thresholds = roc_curve(testlabels[:,1], predict[:,1])\n",
    "roc_auc = auc(fpr, tpr)\n",
    "plt.plot(fpr, tpr, lw=2, color='b', label='auc = %.3f' % (roc_auc))\n",
    "plt.plot([0, 1], [0, 1], linestyle='--', lw=2, color='k', label='random chance')\n",
    "plt.xlim([0, 1.0])\n",
    "plt.ylim([0, 1.0])\n",
    "plt.xlabel('false positive rate')\n",
    "plt.ylabel('true positive rate')\n",
    "plt.title('receiver operating curve')\n",
    "plt.legend(loc=\"lower right\")\n",
    "plt.show()"
   ]
  },
  {
   "cell_type": "code",
   "execution_count": 10,
   "metadata": {},
   "outputs": [
    {
     "data": {
      "image/png": "[encoded data removed]",
      "text/plain": [
       "<Figure size 432x288 with 1 Axes>"
      ]
     },
     "metadata": {
      "needs_background": "light"
     },
     "output_type": "display_data"
    }
   ],
   "source": [
    "indqcd = np.argwhere(testlabels[:,0] == 1)\n",
    "indz  = np.argwhere(testlabels[:,1] == 1) \n",
    "hist_, bin_edges_ = np.histogram(predict[indqcd])\n",
    "plt.hist([predict[indqcd, 0].flatten(),predict[indz, 1].flatten()], histtype = 'step', label = ['qcd', 'ZZ'])\n",
    "plt.legend()\n",
    "plt.title('Predictions w/ normalized Pt')\n",
    "plt.yscale('log')\n",
    "plt.xlabel('Prediction (correct = 1)')\n",
    "plt.show()"
   ]
  },
  {
   "cell_type": "markdown",
   "metadata": {},
   "source": [
    "### LRP"
   ]
  },
  {
   "cell_type": "code",
   "execution_count": 11,
   "metadata": {},
   "outputs": [],
   "source": [
    "import innvestigate\n",
    "import innvestigate.utils as iutils"
   ]
  },
  {
   "cell_type": "code",
   "execution_count": 12,
   "metadata": {},
   "outputs": [
    {
     "name": "stdout",
     "output_type": "stream",
     "text": [
      "WARNING:tensorflow:From /opt/conda/lib/python3.7/site-packages/tensorflow/python/ops/math_grad.py:102: div (from tensorflow.python.ops.math_ops) is deprecated and will be removed in a future version.\n",
      "Instructions for updating:\n",
      "Deprecated in favor of operator or tf.math.divide.\n"
     ]
    },
    {
     "name": "stderr",
     "output_type": "stream",
     "text": [
      "/opt/conda/lib/python3.7/site-packages/innvestigate/analyzer/base.py:110: UserWarning: LRP is only tested for convolutional neural networks.\n",
      "Check triggerd by layers: [<keras.layers.recurrent.GRU object at 0x7fcb0c8441d0>, <keras.layers.recurrent.GRU object at 0x7fcb0c844278>, <keras.layers.recurrent.GRU object at 0x7fcb0c8446a0>]\n",
      "  warnings.warn(tmp_message)\n"
     ]
    }
   ],
   "source": [
    "# Create model without trailing softmax\n",
    "model_wo_softmax = iutils.keras.graph.model_wo_softmax(best_model)\n",
    "# Creating an analyzer\n",
    "lrp_analyzer = innvestigate.create_analyzer(\"lrp.alpha_1_beta_0\", model_wo_softmax)\n",
    "\n",
    "analysis = lrp_analyzer.analyze([testvec[::8],testtaus[::8],testmults[::8]])"
   ]
  },
  {
   "cell_type": "code",
   "execution_count": 13,
   "metadata": {},
   "outputs": [],
   "source": [
    "pt_analysis = analysis[0][:,:,0].flatten()\n",
    "eta_analysis = analysis[0][:,:,1].flatten()\n",
    "phi_analysis = analysis[0][:,:,2].flatten()\n",
    "tau_analysis = analysis[1].flatten()\n",
    "mult_analysis = analysis[2].flatten()\n",
    "\n",
    "w_pt,  edges_pt = np.histogram(testvec[::8][:,:,0].flatten(), weights = pt_analysis, bins = 32)\n",
    "w_eta,  edges_eta = np.histogram(testvec[::8][:,:,1].flatten(), weights = eta_analysis, bins = 32)\n",
    "w_phi,   edges_phi = np.histogram(testvec[::8][:,:,2].flatten(), weights = phi_analysis, bins = 32)\n",
    "w_tau,  edges_tau = np.histogram(testtaus[::8], weights = tau_analysis, bins = 32)\n",
    "w_mult,  edges_mult = np.histogram(testmults[::8], weights = mult_analysis, bins = 32)\n",
    "\n",
    "edges = np.concatenate((edges_pt, edges_eta, edges_phi, edges_tau, edges_mult), axis=0)\n",
    "edges = edges.reshape(5,33)\n",
    "\n",
    "half_bin = (edges[:,1]-edges[:,0])/2\n",
    "half_bin = half_bin.reshape(5,1)\n",
    "x = edges[:,0:-1]+half_bin"
   ]
  },
  {
   "cell_type": "code",
   "execution_count": 14,
   "metadata": {},
   "outputs": [
    {
     "data": {
      "image/png": "[encoded data removed]",
      "text/plain": [
       "<Figure size 864x288 with 2 Axes>"
      ]
     },
     "metadata": {
      "needs_background": "light"
     },
     "output_type": "display_data"
    }
   ],
   "source": [
    "plt.figure(figsize = (12,4))\n",
    "plt.subplot(1,2,1)\n",
    "plt.hist(testvec[::8][:,:,0].flatten(), bins = 32)\n",
    "plt.title(\"unweighted pt values\")\n",
    "plt.subplot(1,2,2)\n",
    "plt.scatter(x[0], w_pt, c = '0', label = 'weighted by pt rel')\n",
    "plt.title(\"pt weighted by relevance\")\n",
    "plt.show()"
   ]
  },
  {
   "cell_type": "code",
   "execution_count": 15,
   "metadata": {},
   "outputs": [
    {
     "data": {
      "image/png": "[encoded data removed]",
      "text/plain": [
       "<Figure size 864x288 with 2 Axes>"
      ]
     },
     "metadata": {
      "needs_background": "light"
     },
     "output_type": "display_data"
    }
   ],
   "source": [
    "plt.figure(figsize = (12,4))\n",
    "plt.subplot(1,2,1)\n",
    "plt.hist(testvec[::8][:,:,1].flatten(), bins = 32)\n",
    "plt.title(\"unweighted eta values\")\n",
    "plt.subplot(1,2,2)\n",
    "plt.scatter(x[1], w_eta, c = '0', label = 'weighted by eta rel')\n",
    "plt.title(\"eta weighted by relevance\")\n",
    "plt.show()"
   ]
  },
  {
   "cell_type": "code",
   "execution_count": 16,
   "metadata": {},
   "outputs": [
    {
     "data": {
      "image/png": "[encoded data removed]",
      "text/plain": [
       "<Figure size 864x288 with 2 Axes>"
      ]
     },
     "metadata": {
      "needs_background": "light"
     },
     "output_type": "display_data"
    }
   ],
   "source": [
    "plt.figure(figsize = (12,4))\n",
    "plt.subplot(1,2,1)\n",
    "plt.hist(testvec[::8][:,:,2].flatten(), bins = 32)\n",
    "plt.title(\"unweighted phi values\")\n",
    "plt.subplot(1,2,2)\n",
    "plt.scatter(x[2], w_phi, c = '0', label = 'weighted by phi rel')\n",
    "plt.title(\"phi weighted by relevance\")\n",
    "plt.show()"
   ]
  },
  {
   "cell_type": "code",
   "execution_count": 17,
   "metadata": {},
   "outputs": [
    {
     "data": {
      "image/png": "[encoded data removed]",
      "text/plain": [
       "<Figure size 864x288 with 2 Axes>"
      ]
     },
     "metadata": {
      "needs_background": "light"
     },
     "output_type": "display_data"
    }
   ],
   "source": [
    "plt.figure(figsize = (12,4))\n",
    "plt.subplot(1,2,1)\n",
    "plt.hist(testtaus[::8], bins = 32)\n",
    "plt.title(\"unweighted tau values\")\n",
    "plt.subplot(1,2,2)\n",
    "plt.scatter(x[3], w_tau, c = '0', label = 'weighted by tau rel')\n",
    "plt.title(\"tau weighted by relevance\")\n",
    "plt.show()"
   ]
  },
  {
   "cell_type": "code",
   "execution_count": 18,
   "metadata": {},
   "outputs": [
    {
     "data": {
      "image/png": "[encoded data removed]",
      "text/plain": [
       "<Figure size 864x288 with 2 Axes>"
      ]
     },
     "metadata": {
      "needs_background": "light"
     },
     "output_type": "display_data"
    }
   ],
   "source": [
    "plt.figure(figsize = (12,4))\n",
    "plt.subplot(1,2,1)\n",
    "plt.hist(testmults[::8], bins = 32)\n",
    "plt.title(\"unweighted charge multiplicity values\")\n",
    "plt.subplot(1,2,2)\n",
    "plt.scatter(x[4], w_mult, c = '0', label = 'weighted by mult rel')\n",
    "plt.title(\"charge multicplicty weighted by relevance\")\n",
    "plt.show()"
   ]
  },
  {
   "cell_type": "code",
   "execution_count": null,
   "metadata": {},
   "outputs": [],
   "source": []
  }
 ],
 "metadata": {
  "kernelspec": {
   "display_name": "Python 3",
   "language": "python",
   "name": "python3"
  },
  "language_info": {
   "codemirror_mode": {
    "name": "ipython",
    "version": 3
   },
   "file_extension": ".py",
   "mimetype": "text/x-python",
   "name": "python",
   "nbconvert_exporter": "python",
   "pygments_lexer": "ipython3",
   "version": "3.7.3"
  }
 },
 "nbformat": 4,
 "nbformat_minor": 2
}
