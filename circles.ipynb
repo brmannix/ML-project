{
  "nbformat": 4,
  "nbformat_minor": 0,
  "metadata": {
    "colab": {
      "name": "circles.ipynb",
      "version": "0.3.2",
      "provenance": [],
      "collapsed_sections": []
    },
    "kernelspec": {
      "name": "python3",
      "display_name": "Python 3"
    }
  },
  "cells": [
    {
      "metadata": {
        "id": "u3oCeGvTKLJx",
        "colab_type": "code",
        "colab": {}
      },
      "cell_type": "code",
      "source": [
        "import numpy as np\n",
        "import matplotlib.pyplot as plt"
      ],
      "execution_count": 0,
      "outputs": []
    },
    {
      "metadata": {
        "id": "pVKCWnPivcH4",
        "colab_type": "code",
        "colab": {}
      },
      "cell_type": "code",
      "source": [
        "def gen_data(maxR,iterations):\n",
        "  \"\"\"\n",
        "  Takes in a maximum radius and a number of circles to be generated. \n",
        "  It gives 2 arrays: the data for plotting the cirlces and the radii which are used as the labels for training\n",
        "  \n",
        "  I just created this to get data to start. It is very slow and needs work to give something more meaningful.\n",
        "  \"\"\"\n",
        "  \n",
        "  \n",
        "  circlesOutput =  np.array([])\n",
        "  radii =  np.array([])\n",
        "  \n",
        "  # making the plot as big as the largest radius\n",
        "  dimension = 2*maxR + 1\n",
        "  \n",
        "  # for each circle\n",
        "  for n in range(iterations):\n",
        "    circle = np.zeros((dimension,dimension))\n",
        "    \n",
        "    radius = np.random.randint(1,maxR+1)\n",
        "    \n",
        "    #for each pixel\n",
        "    for i in range(2*maxR+1):\n",
        "      for j in range(2*maxR+1):\n",
        "        \n",
        "        x = j - maxR\n",
        "        y = i - maxR\n",
        "        position = (x**2 + y**2)**(1/2)\n",
        "        \n",
        "        #check if the pixel is within the radius\n",
        "        if position <= radius:\n",
        "          \n",
        "          # shade the pixel according to a Gaussian\n",
        "          circle[i][j] = np.exp((-1/2)*(3*position/maxR)**2)\n",
        "          \n",
        "    circlesOutput = np.append(circlesOutput,circle)\n",
        "    radii = np.append(radii,radius)\n",
        " \n",
        "  circles = circlesOutput.reshape(iterations,dimension**2)\n",
        "  return circles, radii"
      ],
      "execution_count": 0,
      "outputs": []
    },
    {
      "metadata": {
        "id": "P_8GJWZnEuy2",
        "colab_type": "code",
        "colab": {}
      },
      "cell_type": "code",
      "source": [
        "#generate data\n",
        "\n",
        "maxR = 50\n",
        "iterations = 1000\n",
        "\n",
        "circleData, radiiLabels = gen_data(maxR,iterations)\n"
      ],
      "execution_count": 0,
      "outputs": []
    },
    {
      "metadata": {
        "id": "-IWuLg2YOaua",
        "colab_type": "code",
        "outputId": "5a58c926-8686-4085-c565-77e07d84304a",
        "colab": {
          "base_uri": "https://localhost:8080/",
          "height": 286
        }
      },
      "cell_type": "code",
      "source": [
        "#showing an example circle\n",
        "\n",
        "display = circleData[5].reshape(2*maxR+1,2*maxR+1)\n",
        "plt.grid(False)\n",
        "plt.imshow(display)\n",
        "print(\"radius = \" + str(radiiLabels[5]))\n"
      ],
      "execution_count": 36,
      "outputs": [
        {
          "output_type": "stream",
          "text": [
            "radius = 49.0\n"
          ],
          "name": "stdout"
        },
        {
          "output_type": "display_data",
          "data": {
            "image/png": "[encoded data removed]",
            "text/plain": [
              "<Figure size 432x288 with 1 Axes>"
            ]
          },
          "metadata": {
            "tags": []
          }
        }
      ]
    },
    {
      "metadata": {
        "id": "3Td5MQY5Ob2_",
        "colab_type": "code",
        "colab": {}
      },
      "cell_type": "code",
      "source": [
        "import tensorflow as tf\n",
        "from tensorflow.keras import Sequential, layers"
      ],
      "execution_count": 0,
      "outputs": []
    },
    {
      "metadata": {
        "id": "a8XOLn6wXhbp",
        "colab_type": "code",
        "colab": {}
      },
      "cell_type": "code",
      "source": [
        "# splitting the data into training and testing data\n",
        "\n",
        "#taking 90% for training and 90% for testing\n",
        "split = int(0.9*len(circleData))\n",
        "\n",
        "train_data = circleData[:split]\n",
        "train_labels = radiiLabels[:split]\n",
        "\n",
        "test_data = circleData[split:]\n",
        "test_labels = radiiLabels[split:]\n"
      ],
      "execution_count": 0,
      "outputs": []
    },
    {
      "metadata": {
        "id": "4HT7r-EwZRn2",
        "colab_type": "code",
        "colab": {}
      },
      "cell_type": "code",
      "source": [
        "# simple dense, fully-connected network\n",
        "\n",
        "model = Sequential([\n",
        "    layers.Dense(128, activation=tf.nn.relu),\n",
        "    layers.Dense(128, activation=tf.nn.relu),\n",
        "    layers.Dense(51, activation=tf.nn.softmax)\n",
        "])\n"
      ],
      "execution_count": 0,
      "outputs": []
    },
    {
      "metadata": {
        "id": "AKnn5L8pl5fT",
        "colab_type": "text"
      },
      "cell_type": "markdown",
      "source": [
        "My next goal is to make this a convolutional neural network.\n",
        "\n",
        "You might notice I did a cheap trick where I have the model classifying the radius by picking from all possible values for the radius. This would be better if it was predicting a value for the radius by calculating a continuous value.**bold text**"
      ]
    },
    {
      "metadata": {
        "id": "Fy9wke0dbZX9",
        "colab_type": "code",
        "colab": {}
      },
      "cell_type": "code",
      "source": [
        "model.compile(optimizer='adam', \n",
        "              loss='sparse_categorical_crossentropy',\n",
        "              metrics=['accuracy'])"
      ],
      "execution_count": 0,
      "outputs": []
    },
    {
      "metadata": {
        "id": "aiE3Zutnbb-4",
        "colab_type": "code",
        "outputId": "70ea18f0-5a7e-4617-c5d9-ec90a839833f",
        "colab": {
          "base_uri": "https://localhost:8080/",
          "height": 714
        }
      },
      "cell_type": "code",
      "source": [
        "model.fit(train_data, train_labels, epochs=20)"
      ],
      "execution_count": 48,
      "outputs": [
        {
          "output_type": "stream",
          "text": [
            "Epoch 1/20\n",
            "900/900 [==============================] - 1s 701us/sample - loss: 1.3335 - acc: 0.6078\n",
            "Epoch 2/20\n",
            "900/900 [==============================] - 1s 685us/sample - loss: 1.0894 - acc: 0.6711\n",
            "Epoch 3/20\n",
            "900/900 [==============================] - 1s 670us/sample - loss: 0.8816 - acc: 0.7389\n",
            "Epoch 4/20\n",
            "900/900 [==============================] - 1s 691us/sample - loss: 0.7503 - acc: 0.7689\n",
            "Epoch 5/20\n",
            "900/900 [==============================] - 1s 689us/sample - loss: 0.6723 - acc: 0.8056\n",
            "Epoch 6/20\n",
            "900/900 [==============================] - 1s 712us/sample - loss: 0.5377 - acc: 0.8456\n",
            "Epoch 7/20\n",
            "900/900 [==============================] - 1s 696us/sample - loss: 0.4736 - acc: 0.8667\n",
            "Epoch 8/20\n",
            "900/900 [==============================] - 1s 688us/sample - loss: 0.4184 - acc: 0.8833\n",
            "Epoch 9/20\n",
            "900/900 [==============================] - 1s 694us/sample - loss: 0.3715 - acc: 0.8978\n",
            "Epoch 10/20\n",
            "900/900 [==============================] - 1s 707us/sample - loss: 0.3412 - acc: 0.9078\n",
            "Epoch 11/20\n",
            "900/900 [==============================] - 1s 700us/sample - loss: 0.2979 - acc: 0.9267\n",
            "Epoch 12/20\n",
            "900/900 [==============================] - 1s 678us/sample - loss: 0.2556 - acc: 0.9433\n",
            "Epoch 13/20\n",
            "900/900 [==============================] - 1s 681us/sample - loss: 0.2669 - acc: 0.9178\n",
            "Epoch 14/20\n",
            "900/900 [==============================] - 1s 679us/sample - loss: 0.2432 - acc: 0.9378\n",
            "Epoch 15/20\n",
            "900/900 [==============================] - 1s 689us/sample - loss: 0.1759 - acc: 0.9778\n",
            "Epoch 16/20\n",
            "900/900 [==============================] - 1s 697us/sample - loss: 0.1568 - acc: 0.9656\n",
            "Epoch 17/20\n",
            "900/900 [==============================] - 1s 694us/sample - loss: 0.1560 - acc: 0.9733\n",
            "Epoch 18/20\n",
            "900/900 [==============================] - 1s 698us/sample - loss: 0.1303 - acc: 0.9856\n",
            "Epoch 19/20\n",
            "900/900 [==============================] - 1s 702us/sample - loss: 0.1089 - acc: 0.9867\n",
            "Epoch 20/20\n",
            "900/900 [==============================] - 1s 701us/sample - loss: 0.0902 - acc: 0.9978\n"
          ],
          "name": "stdout"
        },
        {
          "output_type": "execute_result",
          "data": {
            "text/plain": [
              "<tensorflow.python.keras.callbacks.History at 0x7f2ca77fba90>"
            ]
          },
          "metadata": {
            "tags": []
          },
          "execution_count": 48
        }
      ]
    },
    {
      "metadata": {
        "id": "9EOvQIGbbg1l",
        "colab_type": "code",
        "outputId": "abe3841a-69ee-4a48-ac49-43004305887b",
        "colab": {
          "base_uri": "https://localhost:8080/",
          "height": 51
        }
      },
      "cell_type": "code",
      "source": [
        "# should expect an accuracy in the 90's\n",
        "\n",
        "test_loss, test_acc = model.evaluate(test_data, test_labels)\n",
        "\n",
        "print('Test accuracy:', test_acc)"
      ],
      "execution_count": 49,
      "outputs": [
        {
          "output_type": "stream",
          "text": [
            "100/100 [==============================] - 0s 681us/sample - loss: 0.0752 - acc: 0.9900\n",
            "Test accuracy: 0.99\n"
          ],
          "name": "stdout"
        }
      ]
    },
    {
      "metadata": {
        "id": "UUfilkJBb7Xn",
        "colab_type": "code",
        "outputId": "3eb70a43-4946-4b22-ccd1-d414964daf3e",
        "colab": {
          "base_uri": "https://localhost:8080/",
          "height": 238
        }
      },
      "cell_type": "code",
      "source": [
        "#test some prediction\n",
        "\n",
        "predictions = model.predict(test_data)\n",
        "print(predictions[0])\n",
        "print(np.argmax(predictions[0]))\n",
        "\n",
        "print(test_labels[0])"
      ],
      "execution_count": 50,
      "outputs": [
        {
          "output_type": "stream",
          "text": [
            "[8.8076226e-13 2.7319752e-08 8.6865519e-09 2.7185926e-10 1.0536369e-10\n",
            " 7.3446827e-06 2.3566705e-05 2.3998891e-03 9.9446613e-01 2.6192269e-03\n",
            " 4.6062318e-04 1.7695056e-05 1.5918231e-06 3.7380621e-06 2.7417721e-09\n",
            " 1.4960726e-10 5.9267538e-09 2.5580743e-10 1.2288537e-09 3.0125600e-11\n",
            " 1.9367841e-08 5.9147770e-11 1.7351037e-10 2.1566233e-09 5.5121747e-09\n",
            " 4.8728510e-10 8.3455209e-10 5.3613730e-10 1.8625033e-10 9.0618546e-12\n",
            " 8.3010704e-10 6.5396074e-12 5.9642297e-10 2.0335345e-11 3.5425734e-12\n",
            " 9.8589344e-13 5.6062239e-09 8.7090550e-11 3.2774589e-11 5.9897093e-10\n",
            " 7.3530288e-12 9.1890912e-11 1.6568686e-08 5.5328745e-12 2.3063829e-09\n",
            " 1.9083212e-12 5.3030840e-11 2.1614732e-10 7.0223910e-11 5.7552967e-09\n",
            " 7.5794893e-10]\n",
            "8\n",
            "8.0\n"
          ],
          "name": "stdout"
        }
      ]
    },
    {
      "metadata": {
        "id": "4nuHg2G4mqyT",
        "colab_type": "text"
      },
      "cell_type": "markdown",
      "source": [
        "Once the network is setup properly, I want to add the explanation analysis techniques."
      ]
    },
    {
      "metadata": {
        "id": "k5ktqx1OmzxM",
        "colab_type": "code",
        "colab": {}
      },
      "cell_type": "code",
      "source": [
        ""
      ],
      "execution_count": 0,
      "outputs": []
    }
  ]
}